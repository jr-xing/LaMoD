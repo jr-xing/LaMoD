{
 "cells": [
  {
   "cell_type": "markdown",
   "metadata": {},
   "source": [
    "# 1 Load Config and Network"
   ]
  },
  {
   "cell_type": "code",
   "execution_count": 1,
   "metadata": {},
   "outputs": [
    {
     "name": "stdout",
     "output_type": "stream",
     "text": [
      "/sfs/gpfs/tardis/home/jx8fh/Projects/LaMoD\n"
     ]
    }
   ],
   "source": [
    "%load_ext autoreload\n",
    "%autoreload 2\n",
    "# %cd /p/mmcardiac/Jerry/code/CINE-DENSE-Translation\n",
    "# %cd /home/jx8fh/Projects/LaMoD\n",
    "%cd /workspace/LaMoD\n",
    "import numpy as np\n",
    "import torch\n",
    "import matplotlib.pyplot as plt\n",
    "from pathlib import Path\n",
    "from modules.data import check_dict"
   ]
  },
  {
   "cell_type": "code",
   "execution_count": 2,
   "metadata": {},
   "outputs": [],
   "source": [
    "# USE GPU 0\n",
    "import os\n",
    "os.environ[\"CUDA_VISIBLE_DEVICES\"] = \"0\"\n",
    "device = torch.device(\"cuda:0\" if torch.cuda.is_available() else \"cpu\")"
   ]
  },
  {
   "cell_type": "code",
   "execution_count": 3,
   "metadata": {},
   "outputs": [],
   "source": [
    "import json\n",
    "config_fname = 'configs/ours-LaMoD.json'\n",
    "config = json.load(open(config_fname))"
   ]
  },
  {
   "cell_type": "code",
   "execution_count": 4,
   "metadata": {},
   "outputs": [
    {
     "name": "stdout",
     "output_type": "stream",
     "text": [
      "Skip connect: False\n",
      "Loading pretrained model from checkpoints/ours_registration.pth\n",
      "Unrecognized keyword argument: beta_schedule_overwrite = True\n",
      "Unrecognized keyword argument: load_pretrained = True\n",
      "Unrecognized keyword argument: pretrained_model_path = checkpoints/ours_latent_diffusion.pth\n",
      "beta_schedule_method='linear'\n",
      "Loading pretrained model from checkpoints/ours_latent_diffusion.pth\n"
     ]
    },
    {
     "name": "stderr",
     "output_type": "stream",
     "text": [
      "/home/jx8fh/.conda/envs/cardiac/lib/python3.10/site-packages/torch/functional.py:504: UserWarning: torch.meshgrid: in an upcoming release, it will be required to pass the indexing argument. (Triggered internally at ../aten/src/ATen/native/TensorShape.cpp:3483.)\n",
      "  return _VF.meshgrid(tensors, **kwargs)  # type: ignore[attr-defined]\n"
     ]
    },
    {
     "name": "stdout",
     "output_type": "stream",
     "text": [
      "Overwriting beta schedule with linear schedule with scale 30\n",
      "ignorekwargs: {'type': 'DiffusionDecoder', 'drouput': 0.3, 'load_pretrained': True, 'pretrained_model_path': 'checkpoints/ours_motion_regression.pth'}\n",
      "Decoder tanh_out:  False\n",
      "Decoder: give_pre_end=False, tanh_out=False, out_scaling_factor=1\n",
      "Working with z of shape (1, 16, 16, 16) = 4096 dimensions.\n",
      "making attention of type 'vanilla' with 256 in_channels\n",
      "making attention of type 'vanilla' with 256 in_channels\n",
      "making attention of type 'vanilla' with 256 in_channels\n",
      "making attention of type 'vanilla' with 256 in_channels\n",
      "making attention of type 'vanilla' with 128 in_channels\n",
      "making attention of type 'vanilla' with 128 in_channels\n",
      "making attention of type 'vanilla' with 128 in_channels\n",
      "making attention of type 'vanilla' with 64 in_channels\n",
      "making attention of type 'vanilla' with 64 in_channels\n",
      "making attention of type 'vanilla' with 64 in_channels\n",
      "Loading pretrained model from checkpoints/ours_motion_regression.pth\n"
     ]
    }
   ],
   "source": [
    "from models.LaMoD import LaMoD\n",
    "network = LaMoD(config['networks'], device).to(device)"
   ]
  },
  {
   "cell_type": "markdown",
   "metadata": {},
   "source": [
    "# 2 CINE Prediction"
   ]
  },
  {
   "cell_type": "code",
   "execution_count": 10,
   "metadata": {},
   "outputs": [],
   "source": [
    "cine_DENSE_fname = '/scratch/jx8fh/2024-04-21-matched-cine-DENSE-from-Yu-all-with-resampled.npy'\n",
    "cine_DENSE_data = np.load(cine_DENSE_fname, allow_pickle=True).tolist()"
   ]
  },
  {
   "cell_type": "code",
   "execution_count": 11,
   "metadata": {},
   "outputs": [
    {
     "name": "stdout",
     "output_type": "stream",
     "text": [
      "length of data: 105\n",
      "AnalysisInfo                                                 dict_keys(['ResampleMethod', 'ResampleDistance', 'SpatialSmoothing', 'TemporalOrder', 'Xseed', 'Yseed', 'Zseed', 'FramesForAnalysis', 'Nmodel', 'PositionA', 'PositionB', 'Clockwise'])\n",
      "AnalysisInstanceUID                                          1.3.6.1.4.1.9590.100.1.2.64946301013757307506911904523491151334\n",
      "DENSEInfo                                                    dict_keys(['Name', 'UID', 'Type', 'MagIndex', 'PhaIndex', 'Number', 'PixelSpacing', 'Scale', 'EncFreq', 'SwapFlag', 'NegFlag'])\n",
      "DENSE_Eul_displacement_field_Multipliers                     (3,)                \n",
      "DENSE_Eul_displacement_field_X                               (48, 48, 51)        \n",
      "DENSE_Eul_displacement_field_Y                               (48, 48, 51)        \n",
      "DENSE_Lag_displacement_field_X                               (48, 48, 51)        \n",
      "DENSE_Lag_displacement_field_Y                               (48, 48, 51)        \n",
      "DENSE_frame_indices_with_myo_contour                         (51,)               \n",
      "DENSE_frame_time_stamps                                      (51,)               \n",
      "DENSE_mag_images                                             (48, 48, 51)        \n",
      "DENSE_mag_images_full                                        (128, 128, 51)      \n",
      "DENSE_myo_mask_bbox                                          (34, 82, 40, 88)    \n",
      "DENSE_myo_masks                                              (48, 48, 51)        \n",
      "DENSE_myo_masks_rescaled                                     (128, 128, 51)      \n",
      "DENSE_n_frames_all                                           51                  \n",
      "DENSE_slice_NegFlag                                          (3,)                \n",
      "DENSE_slice_SwapFlag                                         1                   \n",
      "DENSE_slice_idx                                              0                   \n",
      "DENSE_slice_location                                         76.947609505431     \n",
      "DENSE_slice_mat_filename                                     /p/miauva/data/Jerry/medical-images/Cardiac-FromKen/Yu-DENSE-data/033_S01_base_auto.1_ROI.1.mat\n",
      "ROIInfo                                                      dict_keys(['ROIType', 'RestingContour', 'Contour'])\n",
      "SequenceInfo                                                 (2, 3)              \n",
      "StrainInfo                                                   dict_keys(['X', 'Y', 'Faces', 'Vertices', 'PolarOrientation', 'Mask', 'XX', 'YY', 'XY', 'YX', 'RR', 'CC', 'RC', 'CR', 'p1', 'p2', 'p1or'])\n",
      "TransmuralStrainInfo                                         dict_keys(['Err', 'Ecc', 'E1', 'E2', 'Twist', 'CURE', 'RURE'])\n",
      "cine_cropped_images                                          (128, 128, 20)      \n",
      "cine_cropped_images_bbox                                     list: (4)           \n",
      "cine_cropped_images_rescaled_1mm2                            (128, 128, 20)      \n",
      "cine_cropped_images_rescaled_DENSE48                         (48, 48, 20)        \n",
      "cine_cropped_myocardium_masks                                (128, 128, 20)      \n",
      "cine_cropped_myocardium_masks_bbox                           list: (4)           \n",
      "cine_cropped_myocardium_masks_resampled                      (128, 128, 51)      \n",
      "cine_cropped_myocardium_masks_rescaled_1mm2                  (128, 128, 20)      \n",
      "cine_cropped_myocardium_masks_rescaled_1mm2_resampled        (128, 128, 51)      \n",
      "cine_cropped_myocardium_masks_rescaled_DENSE48               (48, 48, 20)        \n",
      "cine_cropped_myocardium_masks_rescaled_DENSE48_resampled     (48, 48, 51)        \n",
      "cine_dicom_tags                                              list: (20)          \n",
      "cine_frame_time_stamps                                       (20,)               \n",
      "cine_frame_time_stamps_resampled                             (51,)               \n",
      "cine_has_separate_mat_file                                   True                \n",
      "cine_lv_endo_contour                                         (20,)               \n",
      "cine_lv_endo_contour_rescaled_1mm2                           (20,)               \n",
      "cine_lv_endo_contour_rescaled_DENSE48                        (20,)               \n",
      "cine_lv_epi_contour                                          (20,)               \n",
      "cine_lv_epi_contour_rescaled_1mm2                            (20,)               \n",
      "cine_lv_epi_contour_rescaled_DENSE48                         (20,)               \n",
      "cine_resampled_already_exist_flags                           (51,)               \n",
      "cine_rv_insertion_points                                     (2,)                \n",
      "cine_rv_insertion_points_rescaled_1mm2                       (2,)                \n",
      "cine_rv_insertion_points_rescaled_DENSE48                    (2,)                \n",
      "cine_sep_mat_filename                                        /p/miauva/data/Jerry/medical-images/Cardiac-FromKen/Yu-analyzed-cine-data/CRT33/trufi_cine_sa_p2_13.mat\n",
      "cine_slice_has_contour                                       True                \n",
      "cine_slice_idx                                               2                   \n",
      "cine_slice_location                                          76.947638050049     \n",
      "cine_slice_mat_filename                                      /p/miauva/data/Jerry/medical-images/Cardiac-FromKen/Yu-analyzed-cine-data/CRT33/all_AUTO_FUNCTION_2_143.mat\n",
      "cine_slice_name                                              all_AUTO_FUNCTION_2_143-2\n",
      "out_of_box_flag                                              False               \n",
      "patient_id                                                   CRT33               \n"
     ]
    }
   ],
   "source": [
    "print(f\"length of data: {len(cine_DENSE_data)}\")\n",
    "check_dict(cine_DENSE_data[0])"
   ]
  },
  {
   "cell_type": "code",
   "execution_count": 18,
   "metadata": {},
   "outputs": [
    {
     "name": "stderr",
     "output_type": "stream",
     "text": [
      "0it [00:22, ?it/s]\n"
     ]
    }
   ],
   "source": [
    "from modules.data.processing.strain_analysis.pixelstrain import pixelstrain\n",
    "from modules.data.processing.strain_analysis.resample_strain_matrix import resample_strain_matrix_2d\n",
    "from modules.data.processing.strain_analysis.six_segments_core import six_segments_core, get_various_segmental_strain_data\n",
    "from skimage.transform import resize\n",
    "from skimage.morphology import dilation, disk, closing\n",
    "import tqdm\n",
    "# check_data_idx = 0\n",
    "n_repeats = 5\n",
    "my_pred_disps = []\n",
    "skip_diffusion = True\n",
    "cine_save_pred_dir = Path('/scratch/jx8fh/2025-01-04-LaMoD-variability/cine')\n",
    "for check_data_idx, check_datum in tqdm.tqdm(enumerate(cine_DENSE_data)):    \n",
    "    # Get the raw mask\n",
    "    inference_mask_raw = torch.from_numpy(\n",
    "            resize(check_datum['cine_cropped_myocardium_masks_rescaled_1mm2'][...,0]>0.5, [48,48], anti_aliasing=False)\n",
    "        )    \n",
    "    # Get the dilated mask since the pixelstrain function refuse to compute when a pixel has few neighbors\n",
    "    inference_mask = torch.from_numpy(dilation(inference_mask_raw, disk(2)))\n",
    "    \n",
    "    # Prepare Pytorch tensor\n",
    "    inference_input_video      = torch.from_numpy(check_datum['cine_cropped_myocardium_masks_rescaled_1mm2']).to(device).moveaxis(-1,0)[None, None]\n",
    "    # inference_input_video_ori_frame = check_datum['ori_n_frames']\n",
    "    inference_input_video_ori_frame = inference_input_video.shape[2]\n",
    "\n",
    "    patient_repeats = []\n",
    "    for repeat_idx in range(n_repeats):    \n",
    "        inference_output_dict = network.inference(\n",
    "            inference_input_video, \n",
    "            ori_n_frames=[inference_input_video_ori_frame],\n",
    "            skip_diffusion=False)[0]\n",
    "        # Extract prediction\n",
    "        inference_disp = inference_output_dict['LaMoD_disp'].detach().cpu() / 2.73\n",
    "\n",
    "        # Compute the strain \n",
    "        H, W = inference_disp.shape[-2:]\n",
    "        X, Y = np.meshgrid(np.arange(W), np.arange(H))\n",
    "        dXt = np.moveaxis(inference_disp[0,0].numpy(), 0, -1)\n",
    "        dYt = np.moveaxis(inference_disp[0,1].numpy(), 0, -1)\n",
    "        mask = inference_mask.numpy()\n",
    "        Nfr = inference_disp.shape[2]\n",
    "        strain = pixelstrain(\n",
    "            X=X, Y=Y, \n",
    "            dXt=dXt, dYt=dYt, \n",
    "            mask=mask, times=np.arange(Nfr))\n",
    "        strainCC = strain['CC']\n",
    "\n",
    "        # re-compute the GT strain to make sure the prediction and GT share the sanme strain computation method\n",
    "        mask_GT = (np.abs(check_datum['DENSE_Lag_displacement_field_X'][...,0]) + np.abs(check_datum['DENSE_Lag_displacement_field_Y'][...,0])) > 0\n",
    "        Nfr_DENSE = check_datum['DENSE_Lag_displacement_field_X'].shape[2]\n",
    "        cine_strain_GT = pixelstrain(\n",
    "            X=X, Y=Y, \n",
    "            dXt=check_datum['DENSE_Lag_displacement_field_X'], \n",
    "            dYt=check_datum['DENSE_Lag_displacement_field_Y'], \n",
    "            mask=mask_GT, times=np.arange(Nfr_DENSE))\n",
    "        \n",
    "        # Compute segmental strain\n",
    "        cine_recompute_strain = get_various_segmental_strain_data(\n",
    "            strain_images=strain['CC'], \n",
    "            strain_mask=~np.isnan(strain['CC'][...,0]), \n",
    "            origin=np.array([24,24]), \n",
    "            # insertion=np.array([24,0]),\n",
    "            insertion=check_datum['cine_rv_insertion_points_rescaled_DENSE48'],\n",
    "            enable_offset=True,\n",
    "            offset_degrees=[90, 120, 120],\n",
    "            generate_layerid_map=False)\n",
    "\n",
    "        cine_datum_n_valid_frames = Nfr\n",
    "        cine_DENSE_time_stamps = check_datum['DENSE_frame_time_stamps']\n",
    "        cine_time_stamps = check_datum['cine_frame_time_stamps'][:cine_datum_n_valid_frames]\n",
    "        \n",
    "        cine_DENSE_strain_imgs = strain_GT['CC']\n",
    "        cine_DENSE_strain_mask = np.abs(check_datum['DENSE_Lag_displacement_field_X'][...,0])>1e-5\n",
    "        cine_DENSE_origin = check_datum['AnalysisInfo']['PositionA'] - np.array([check_datum['DENSE_myo_mask_bbox'][2], check_datum['DENSE_myo_mask_bbox'][0]])\n",
    "        cine_DENSE_insertion = check_datum['AnalysisInfo']['PositionB'] - np.array([check_datum['DENSE_myo_mask_bbox'][2], check_datum['DENSE_myo_mask_bbox'][0]])\n",
    "        cine_DENSE_recompute_strain = get_various_segmental_strain_data(\n",
    "            cine_DENSE_strain_imgs, \n",
    "            cine_DENSE_strain_mask, \n",
    "            cine_DENSE_origin, \n",
    "            cine_DENSE_insertion,\n",
    "            layerid_map = None,\n",
    "            generate_layerid_map=True)\n",
    "        \n",
    "        for strainmat_name in ['CCs4', 'CCs6', 'CCs18']:\n",
    "            cine_DENSE_recompute_strain[strainmat_name+'Resampled'] = resample_strain_matrix_2d(cine_DENSE_recompute_strain[strainmat_name], cine_DENSE_time_stamps, cine_time_stamps)\n",
    "            cine_recompute_strain[strainmat_name+'Resampled'] = resample_strain_matrix_2d(cine_recompute_strain[strainmat_name], cine_time_stamps, cine_DENSE_time_stamps)\n",
    "\n",
    "        # compute the masked displacement field\n",
    "        inference_disp_masked = inference_disp.clone()\n",
    "        inference_disp_masked[~inference_mask] = 0\n",
    "        \n",
    "        # Save to file        \n",
    "        # cine_save_pred_dir.mkdir(exist_ok=True, parents=True)\n",
    "        save_dict = {\n",
    "            'disp_GT': np.concatenate((check_datum['DENSE_Lag_displacement_field_X'][None], check_datum['DENSE_Lag_displacement_field_Y'][None]), axis=0), # [2, H, W, Nfr]\n",
    "            'disp_pred': np.moveaxis(inference_disp.numpy()[0], 1, -1),\n",
    "            'strain_GT': cine_DENSE_strain_imgs,\n",
    "            'strain_pred': strain['CC']\n",
    "            }\n",
    "        for strainmat_name in cine_recompute_strain.keys():\n",
    "            save_dict[strainmat_name+'_pred'] = cine_recompute_strain[strainmat_name]\n",
    "        for strainmat_name in cine_DENSE_recompute_strain.keys():\n",
    "            save_dict[strainmat_name+'_GT'] = cine_DENSE_recompute_strain[strainmat_name]\n",
    "        \n",
    "        patient_repeats.append(save_dict)\n",
    "    \n",
    "    # save file\n",
    "    patient_id = check_datum['patient_id']\n",
    "    save_path = cine_save_pred_dir / f'LaMoD-cine-{patient_id}.npy'\n",
    "    np.save(save_path, patient_repeats)\n",
    "    break"
   ]
  },
  {
   "cell_type": "markdown",
   "metadata": {},
   "source": [
    "# DENSE"
   ]
  },
  {
   "cell_type": "code",
   "execution_count": 5,
   "metadata": {},
   "outputs": [
    {
     "name": "stdout",
     "output_type": "stream",
     "text": [
      "len(test_DENSE_data) = 102\n",
      "patient_id                                                   033                 \n",
      "DENSE_slice_mat_filename                                     /p/miauva/data/Jerry/medical-images/Cardiac-FromKen/Yu-DENSE-data/033_S01_base_auto.1_ROI.1.mat\n",
      "DENSE_slice_location                                         76.947609505431     \n",
      "DENSE_frame_time_stamps                                      (51,)               \n",
      "DENSE_Lag_displacement_field_X                               (48, 48, 51)        \n",
      "DENSE_Lag_displacement_field_Y                               (48, 48, 51)        \n",
      "DENSE_myo_masks                                              (48, 48, 51)        \n",
      "DENSE_myo_mask_bbox                                          (34, 82, 40, 88)    \n",
      "DENSE_myo_masks_rescaled                                     (128, 128, 51)      \n",
      "DENSE_n_frames_all                                           51                  \n",
      "DENSE_frame_indices_with_myo_contour                         (51,)               \n",
      "out_of_box_flag                                              False               \n",
      "TransmuralStrainInfo                                         dict_keys(['Err', 'Ecc', 'E1', 'E2', 'Twist', 'CURE', 'RURE'])\n",
      "SequenceInfo                                                 (2, 3)              \n",
      "StrainInfo                                                   dict_keys(['X', 'Y', 'Faces', 'Vertices', 'PolarOrientation', 'Mask', 'XX', 'YY', 'XY', 'YX', 'RR', 'CC', 'RC', 'CR', 'p1', 'p2', 'p1or'])\n",
      "ROIInfo                                                      dict_keys(['ROIType', 'RestingContour', 'Contour'])\n",
      "AnalysisInfo                                                 dict_keys(['ResampleMethod', 'ResampleDistance', 'SpatialSmoothing', 'TemporalOrder', 'Xseed', 'Yseed', 'Zseed', 'FramesForAnalysis', 'Nmodel', 'PositionA', 'PositionB', 'Clockwise'])\n",
      "DENSEInfo                                                    dict_keys(['Name', 'UID', 'Type', 'MagIndex', 'PhaIndex', 'Number', 'PixelSpacing', 'Scale', 'EncFreq', 'SwapFlag', 'NegFlag'])\n",
      "AnalysisInstanceUID                                          1.3.6.1.4.1.9590.100.1.2.64946301013757307506911904523491151334\n",
      "DENSE_strain_CC                                              (48, 48, 51)        \n",
      "DENSE_strain_CCs6                                            (6, 51)             \n",
      "DENSE_strain_CCs18                                           (18, 51)            \n",
      "DENSE_strain_CCs_saved                                       dict_keys(['ResampleMethod', 'ResampleDistance', 'SpatialSmoothing', 'TemporalOrder', 'Xseed', 'Yseed', 'Zseed', 'FramesForAnalysis', 'Nmodel', 'PositionA', 'PositionB', 'Clockwise'])\n"
     ]
    }
   ],
   "source": [
    "# test_DENSE_data = np.load('/p/mmcardiac/Jerry/code/CINE-DENSE-Translation/data/DENSE/2024-04-16-test-data.npy', allow_pickle=True).tolist()\n",
    "test_DENSE_data = np.load('/scratch/jx8fh/2024-04-16-test-data.npy', allow_pickle=True).tolist()\n",
    "# test_DENSE_data = np.load('/scratch/jx8fh/2024-06-22-MICCAI-ShapeMI-Workshop-data/lamod_test.npy', allow_pickle=True).tolist()\n",
    "print(f\"len(test_DENSE_data) = {len(test_DENSE_data)}\")\n",
    "check_dict(test_DENSE_data[0])"
   ]
  },
  {
   "cell_type": "code",
   "execution_count": 6,
   "metadata": {},
   "outputs": [],
   "source": [
    "# count the number of files under /scratch/jx8fh/2025-01-04-LaMoD-variability/DENSE\n",
    "# ls -l /scratch/jx8fh/2025-01-04-LaMoD-variability/DENSE | grep -c ^-"
   ]
  },
  {
   "cell_type": "code",
   "execution_count": 7,
   "metadata": {},
   "outputs": [
    {
     "name": "stderr",
     "output_type": "stream",
     "text": [
      "1it [00:10, 10.29s/it]"
     ]
    },
    {
     "name": "stdout",
     "output_type": "stream",
     "text": [
      "Save to /scratch/jx8fh/2025-01-04-LaMoD-variability/DENSE/LaMoD-DENSE-SkipDiffusion-000-033-76.npy\n"
     ]
    },
    {
     "name": "stderr",
     "output_type": "stream",
     "text": [
      "2it [00:12,  5.67s/it]"
     ]
    },
    {
     "name": "stdout",
     "output_type": "stream",
     "text": [
      "Save to /scratch/jx8fh/2025-01-04-LaMoD-variability/DENSE/LaMoD-DENSE-SkipDiffusion-001-033-86.npy\n"
     ]
    },
    {
     "name": "stderr",
     "output_type": "stream",
     "text": [
      "3it [00:14,  4.09s/it]"
     ]
    },
    {
     "name": "stdout",
     "output_type": "stream",
     "text": [
      "Save to /scratch/jx8fh/2025-01-04-LaMoD-variability/DENSE/LaMoD-DENSE-SkipDiffusion-002-033-105.npy\n"
     ]
    },
    {
     "name": "stderr",
     "output_type": "stream",
     "text": [
      "4it [00:17,  3.40s/it]"
     ]
    },
    {
     "name": "stdout",
     "output_type": "stream",
     "text": [
      "Save to /scratch/jx8fh/2025-01-04-LaMoD-variability/DENSE/LaMoD-DENSE-SkipDiffusion-003-033-115.npy\n"
     ]
    },
    {
     "name": "stderr",
     "output_type": "stream",
     "text": [
      "/sfs/gpfs/tardis/home/jx8fh/Projects/LaMoD/modules/data/processing/strain_analysis/six_segments_core.py:266: RuntimeWarning: Mean of empty slice.\n",
      "  curr_CC_of_seg = strain_images[curr_segmental_layer_mask, :].mean(axis=0)\n",
      "/home/jx8fh/.conda/envs/cardiac/lib/python3.10/site-packages/numpy/core/_methods.py:121: RuntimeWarning: divide by zero encountered in divide\n",
      "  ret = um.true_divide(\n",
      "/home/jx8fh/.conda/envs/cardiac/lib/python3.10/site-packages/numpy/core/_methods.py:121: RuntimeWarning: invalid value encountered in divide\n",
      "  ret = um.true_divide(\n",
      "5it [00:18,  2.61s/it]"
     ]
    },
    {
     "name": "stdout",
     "output_type": "stream",
     "text": [
      "Save to /scratch/jx8fh/2025-01-04-LaMoD-variability/DENSE/LaMoD-DENSE-SkipDiffusion-004-122--62.npy\n"
     ]
    },
    {
     "name": "stderr",
     "output_type": "stream",
     "text": [
      "6it [00:19,  2.05s/it]"
     ]
    },
    {
     "name": "stdout",
     "output_type": "stream",
     "text": [
      "Save to /scratch/jx8fh/2025-01-04-LaMoD-variability/DENSE/LaMoD-DENSE-SkipDiffusion-005-122--71.npy\n"
     ]
    },
    {
     "name": "stderr",
     "output_type": "stream",
     "text": [
      "7it [00:20,  1.64s/it]"
     ]
    },
    {
     "name": "stdout",
     "output_type": "stream",
     "text": [
      "Save to /scratch/jx8fh/2025-01-04-LaMoD-variability/DENSE/LaMoD-DENSE-SkipDiffusion-006-122--91.npy\n"
     ]
    },
    {
     "name": "stderr",
     "output_type": "stream",
     "text": [
      "8it [00:21,  1.49s/it]"
     ]
    },
    {
     "name": "stdout",
     "output_type": "stream",
     "text": [
      "Save to /scratch/jx8fh/2025-01-04-LaMoD-variability/DENSE/LaMoD-DENSE-SkipDiffusion-007-124-27.npy\n"
     ]
    },
    {
     "name": "stderr",
     "output_type": "stream",
     "text": [
      "9it [00:22,  1.31s/it]"
     ]
    },
    {
     "name": "stdout",
     "output_type": "stream",
     "text": [
      "Save to /scratch/jx8fh/2025-01-04-LaMoD-variability/DENSE/LaMoD-DENSE-SkipDiffusion-008-124-37.npy\n"
     ]
    },
    {
     "name": "stderr",
     "output_type": "stream",
     "text": [
      "10it [00:23,  1.21s/it]"
     ]
    },
    {
     "name": "stdout",
     "output_type": "stream",
     "text": [
      "Save to /scratch/jx8fh/2025-01-04-LaMoD-variability/DENSE/LaMoD-DENSE-SkipDiffusion-009-124-47.npy\n"
     ]
    },
    {
     "name": "stderr",
     "output_type": "stream",
     "text": [
      "11it [00:24,  1.12s/it]"
     ]
    },
    {
     "name": "stdout",
     "output_type": "stream",
     "text": [
      "Save to /scratch/jx8fh/2025-01-04-LaMoD-variability/DENSE/LaMoD-DENSE-SkipDiffusion-010-124-56.npy\n"
     ]
    },
    {
     "name": "stderr",
     "output_type": "stream",
     "text": [
      "12it [00:26,  1.36s/it]"
     ]
    },
    {
     "name": "stdout",
     "output_type": "stream",
     "text": [
      "Save to /scratch/jx8fh/2025-01-04-LaMoD-variability/DENSE/LaMoD-DENSE-SkipDiffusion-011-125-55.npy\n"
     ]
    },
    {
     "name": "stderr",
     "output_type": "stream",
     "text": [
      "13it [00:27,  1.33s/it]"
     ]
    },
    {
     "name": "stdout",
     "output_type": "stream",
     "text": [
      "Save to /scratch/jx8fh/2025-01-04-LaMoD-variability/DENSE/LaMoD-DENSE-SkipDiffusion-012-125-75.npy\n"
     ]
    },
    {
     "name": "stderr",
     "output_type": "stream",
     "text": [
      "14it [00:28,  1.40s/it]"
     ]
    },
    {
     "name": "stdout",
     "output_type": "stream",
     "text": [
      "Save to /scratch/jx8fh/2025-01-04-LaMoD-variability/DENSE/LaMoD-DENSE-SkipDiffusion-013-125-84.npy\n"
     ]
    },
    {
     "name": "stderr",
     "output_type": "stream",
     "text": [
      "15it [00:30,  1.35s/it]"
     ]
    },
    {
     "name": "stdout",
     "output_type": "stream",
     "text": [
      "Save to /scratch/jx8fh/2025-01-04-LaMoD-variability/DENSE/LaMoD-DENSE-SkipDiffusion-014-125-103.npy\n"
     ]
    },
    {
     "name": "stderr",
     "output_type": "stream",
     "text": [
      "16it [00:31,  1.41s/it]"
     ]
    },
    {
     "name": "stdout",
     "output_type": "stream",
     "text": [
      "Save to /scratch/jx8fh/2025-01-04-LaMoD-variability/DENSE/LaMoD-DENSE-SkipDiffusion-015-136--73.npy\n"
     ]
    },
    {
     "name": "stderr",
     "output_type": "stream",
     "text": [
      "17it [00:32,  1.30s/it]"
     ]
    },
    {
     "name": "stdout",
     "output_type": "stream",
     "text": [
      "Save to /scratch/jx8fh/2025-01-04-LaMoD-variability/DENSE/LaMoD-DENSE-SkipDiffusion-016-136--82.npy\n"
     ]
    },
    {
     "name": "stderr",
     "output_type": "stream",
     "text": [
      "18it [00:33,  1.21s/it]"
     ]
    },
    {
     "name": "stdout",
     "output_type": "stream",
     "text": [
      "Save to /scratch/jx8fh/2025-01-04-LaMoD-variability/DENSE/LaMoD-DENSE-SkipDiffusion-017-136--92.npy\n"
     ]
    },
    {
     "name": "stderr",
     "output_type": "stream",
     "text": [
      "19it [00:34,  1.16s/it]"
     ]
    },
    {
     "name": "stdout",
     "output_type": "stream",
     "text": [
      "Save to /scratch/jx8fh/2025-01-04-LaMoD-variability/DENSE/LaMoD-DENSE-SkipDiffusion-018-136--101.npy\n"
     ]
    },
    {
     "name": "stderr",
     "output_type": "stream",
     "text": [
      "20it [00:35,  1.01s/it]"
     ]
    },
    {
     "name": "stdout",
     "output_type": "stream",
     "text": [
      "Save to /scratch/jx8fh/2025-01-04-LaMoD-variability/DENSE/LaMoD-DENSE-SkipDiffusion-019-146--77.npy\n"
     ]
    },
    {
     "name": "stderr",
     "output_type": "stream",
     "text": [
      "21it [00:36,  1.12it/s]"
     ]
    },
    {
     "name": "stdout",
     "output_type": "stream",
     "text": [
      "Save to /scratch/jx8fh/2025-01-04-LaMoD-variability/DENSE/LaMoD-DENSE-SkipDiffusion-020-146--86.npy\n"
     ]
    },
    {
     "name": "stderr",
     "output_type": "stream",
     "text": [
      "22it [00:36,  1.26it/s]"
     ]
    },
    {
     "name": "stdout",
     "output_type": "stream",
     "text": [
      "Save to /scratch/jx8fh/2025-01-04-LaMoD-variability/DENSE/LaMoD-DENSE-SkipDiffusion-021-146--106.npy\n"
     ]
    },
    {
     "name": "stderr",
     "output_type": "stream",
     "text": [
      "23it [00:37,  1.32it/s]"
     ]
    },
    {
     "name": "stdout",
     "output_type": "stream",
     "text": [
      "Save to /scratch/jx8fh/2025-01-04-LaMoD-variability/DENSE/LaMoD-DENSE-SkipDiffusion-022-146--115.npy\n"
     ]
    },
    {
     "name": "stderr",
     "output_type": "stream",
     "text": [
      "24it [00:38,  1.29it/s]"
     ]
    },
    {
     "name": "stdout",
     "output_type": "stream",
     "text": [
      "Save to /scratch/jx8fh/2025-01-04-LaMoD-variability/DENSE/LaMoD-DENSE-SkipDiffusion-023-17-11.npy\n"
     ]
    },
    {
     "name": "stderr",
     "output_type": "stream",
     "text": [
      "25it [00:39,  1.24it/s]"
     ]
    },
    {
     "name": "stdout",
     "output_type": "stream",
     "text": [
      "Save to /scratch/jx8fh/2025-01-04-LaMoD-variability/DENSE/LaMoD-DENSE-SkipDiffusion-024-17--10.npy\n"
     ]
    },
    {
     "name": "stderr",
     "output_type": "stream",
     "text": [
      "26it [00:39,  1.26it/s]"
     ]
    },
    {
     "name": "stdout",
     "output_type": "stream",
     "text": [
      "Save to /scratch/jx8fh/2025-01-04-LaMoD-variability/DENSE/LaMoD-DENSE-SkipDiffusion-025-17--78.npy\n"
     ]
    },
    {
     "name": "stderr",
     "output_type": "stream",
     "text": [
      "27it [00:40,  1.18it/s]"
     ]
    },
    {
     "name": "stdout",
     "output_type": "stream",
     "text": [
      "Save to /scratch/jx8fh/2025-01-04-LaMoD-variability/DENSE/LaMoD-DENSE-SkipDiffusion-026-CRT104-57.npy\n"
     ]
    },
    {
     "name": "stderr",
     "output_type": "stream",
     "text": [
      "28it [00:41,  1.14it/s]"
     ]
    },
    {
     "name": "stdout",
     "output_type": "stream",
     "text": [
      "Save to /scratch/jx8fh/2025-01-04-LaMoD-variability/DENSE/LaMoD-DENSE-SkipDiffusion-027-CRT104-66.npy\n"
     ]
    },
    {
     "name": "stderr",
     "output_type": "stream",
     "text": [
      "29it [00:42,  1.12it/s]"
     ]
    },
    {
     "name": "stdout",
     "output_type": "stream",
     "text": [
      "Save to /scratch/jx8fh/2025-01-04-LaMoD-variability/DENSE/LaMoD-DENSE-SkipDiffusion-028-CRT104-76.npy\n"
     ]
    },
    {
     "name": "stderr",
     "output_type": "stream",
     "text": [
      "30it [00:43,  1.21it/s]"
     ]
    },
    {
     "name": "stdout",
     "output_type": "stream",
     "text": [
      "Save to /scratch/jx8fh/2025-01-04-LaMoD-variability/DENSE/LaMoD-DENSE-SkipDiffusion-029-CT01-62.npy\n"
     ]
    },
    {
     "name": "stderr",
     "output_type": "stream",
     "text": [
      "31it [00:43,  1.35it/s]"
     ]
    },
    {
     "name": "stdout",
     "output_type": "stream",
     "text": [
      "Save to /scratch/jx8fh/2025-01-04-LaMoD-variability/DENSE/LaMoD-DENSE-SkipDiffusion-030-CT01-82.npy\n"
     ]
    },
    {
     "name": "stderr",
     "output_type": "stream",
     "text": [
      "32it [00:44,  1.61it/s]"
     ]
    },
    {
     "name": "stdout",
     "output_type": "stream",
     "text": [
      "Save to /scratch/jx8fh/2025-01-04-LaMoD-variability/DENSE/LaMoD-DENSE-SkipDiffusion-031-CT01-102.npy\n"
     ]
    },
    {
     "name": "stderr",
     "output_type": "stream",
     "text": [
      "33it [00:44,  1.65it/s]"
     ]
    },
    {
     "name": "stdout",
     "output_type": "stream",
     "text": [
      "Save to /scratch/jx8fh/2025-01-04-LaMoD-variability/DENSE/LaMoD-DENSE-SkipDiffusion-032-CT03-127.npy\n"
     ]
    },
    {
     "name": "stderr",
     "output_type": "stream",
     "text": [
      "34it [00:45,  1.68it/s]"
     ]
    },
    {
     "name": "stdout",
     "output_type": "stream",
     "text": [
      "Save to /scratch/jx8fh/2025-01-04-LaMoD-variability/DENSE/LaMoD-DENSE-SkipDiffusion-033-CT03-127.npy\n"
     ]
    },
    {
     "name": "stderr",
     "output_type": "stream",
     "text": [
      "35it [00:45,  1.81it/s]"
     ]
    },
    {
     "name": "stdout",
     "output_type": "stream",
     "text": [
      "Save to /scratch/jx8fh/2025-01-04-LaMoD-variability/DENSE/LaMoD-DENSE-SkipDiffusion-034-CT03-137.npy\n"
     ]
    },
    {
     "name": "stderr",
     "output_type": "stream",
     "text": [
      "36it [00:46,  1.75it/s]"
     ]
    },
    {
     "name": "stdout",
     "output_type": "stream",
     "text": [
      "Save to /scratch/jx8fh/2025-01-04-LaMoD-variability/DENSE/LaMoD-DENSE-SkipDiffusion-035-CT22-70.npy\n"
     ]
    },
    {
     "name": "stderr",
     "output_type": "stream",
     "text": [
      "37it [00:47,  1.68it/s]"
     ]
    },
    {
     "name": "stdout",
     "output_type": "stream",
     "text": [
      "Save to /scratch/jx8fh/2025-01-04-LaMoD-variability/DENSE/LaMoD-DENSE-SkipDiffusion-036-CT22-90.npy\n"
     ]
    },
    {
     "name": "stderr",
     "output_type": "stream",
     "text": [
      "38it [00:47,  1.82it/s]"
     ]
    },
    {
     "name": "stdout",
     "output_type": "stream",
     "text": [
      "Save to /scratch/jx8fh/2025-01-04-LaMoD-variability/DENSE/LaMoD-DENSE-SkipDiffusion-037-CT22-110.npy\n"
     ]
    },
    {
     "name": "stderr",
     "output_type": "stream",
     "text": [
      "39it [00:48,  1.72it/s]"
     ]
    },
    {
     "name": "stdout",
     "output_type": "stream",
     "text": [
      "Save to /scratch/jx8fh/2025-01-04-LaMoD-variability/DENSE/LaMoD-DENSE-SkipDiffusion-038-CT40--80.npy\n"
     ]
    },
    {
     "name": "stderr",
     "output_type": "stream",
     "text": [
      "40it [00:48,  1.72it/s]"
     ]
    },
    {
     "name": "stdout",
     "output_type": "stream",
     "text": [
      "Save to /scratch/jx8fh/2025-01-04-LaMoD-variability/DENSE/LaMoD-DENSE-SkipDiffusion-039-CT40--100.npy\n"
     ]
    },
    {
     "name": "stderr",
     "output_type": "stream",
     "text": [
      "41it [00:49,  1.74it/s]"
     ]
    },
    {
     "name": "stdout",
     "output_type": "stream",
     "text": [
      "Save to /scratch/jx8fh/2025-01-04-LaMoD-variability/DENSE/LaMoD-DENSE-SkipDiffusion-040-CT40--120.npy\n"
     ]
    },
    {
     "name": "stderr",
     "output_type": "stream",
     "text": [
      "42it [00:53,  1.70s/it]"
     ]
    },
    {
     "name": "stdout",
     "output_type": "stream",
     "text": [
      "Save to /scratch/jx8fh/2025-01-04-LaMoD-variability/DENSE/LaMoD-DENSE-SkipDiffusion-041-Emory_04--94.npy\n"
     ]
    },
    {
     "name": "stderr",
     "output_type": "stream",
     "text": [
      "43it [00:57,  2.28s/it]"
     ]
    },
    {
     "name": "stdout",
     "output_type": "stream",
     "text": [
      "Save to /scratch/jx8fh/2025-01-04-LaMoD-variability/DENSE/LaMoD-DENSE-SkipDiffusion-042-Emory_04--107.npy\n"
     ]
    },
    {
     "name": "stderr",
     "output_type": "stream",
     "text": [
      "44it [01:00,  2.51s/it]"
     ]
    },
    {
     "name": "stdout",
     "output_type": "stream",
     "text": [
      "Save to /scratch/jx8fh/2025-01-04-LaMoD-variability/DENSE/LaMoD-DENSE-SkipDiffusion-043-Emory_04--126.npy\n"
     ]
    },
    {
     "name": "stderr",
     "output_type": "stream",
     "text": [
      "45it [01:04,  2.99s/it]"
     ]
    },
    {
     "name": "stdout",
     "output_type": "stream",
     "text": [
      "Save to /scratch/jx8fh/2025-01-04-LaMoD-variability/DENSE/LaMoD-DENSE-SkipDiffusion-044-Emory_06-34.npy\n"
     ]
    },
    {
     "name": "stderr",
     "output_type": "stream",
     "text": [
      "46it [01:08,  3.19s/it]"
     ]
    },
    {
     "name": "stdout",
     "output_type": "stream",
     "text": [
      "Save to /scratch/jx8fh/2025-01-04-LaMoD-variability/DENSE/LaMoD-DENSE-SkipDiffusion-045-Emory_06-43.npy\n"
     ]
    },
    {
     "name": "stderr",
     "output_type": "stream",
     "text": [
      "47it [01:11,  3.14s/it]"
     ]
    },
    {
     "name": "stdout",
     "output_type": "stream",
     "text": [
      "Save to /scratch/jx8fh/2025-01-04-LaMoD-variability/DENSE/LaMoD-DENSE-SkipDiffusion-046-Emory_06--61.npy\n"
     ]
    },
    {
     "name": "stderr",
     "output_type": "stream",
     "text": [
      "48it [01:13,  3.05s/it]"
     ]
    },
    {
     "name": "stdout",
     "output_type": "stream",
     "text": [
      "Save to /scratch/jx8fh/2025-01-04-LaMoD-variability/DENSE/LaMoD-DENSE-SkipDiffusion-047-Emory_07-24.npy\n"
     ]
    },
    {
     "name": "stderr",
     "output_type": "stream",
     "text": [
      "49it [01:16,  2.99s/it]"
     ]
    },
    {
     "name": "stdout",
     "output_type": "stream",
     "text": [
      "Save to /scratch/jx8fh/2025-01-04-LaMoD-variability/DENSE/LaMoD-DENSE-SkipDiffusion-048-Emory_07--38.npy\n"
     ]
    },
    {
     "name": "stderr",
     "output_type": "stream",
     "text": [
      "50it [01:18,  2.75s/it]"
     ]
    },
    {
     "name": "stdout",
     "output_type": "stream",
     "text": [
      "Save to /scratch/jx8fh/2025-01-04-LaMoD-variability/DENSE/LaMoD-DENSE-SkipDiffusion-049-Emory_07--48.npy\n"
     ]
    },
    {
     "name": "stderr",
     "output_type": "stream",
     "text": [
      "51it [01:20,  2.50s/it]"
     ]
    },
    {
     "name": "stdout",
     "output_type": "stream",
     "text": [
      "Save to /scratch/jx8fh/2025-01-04-LaMoD-variability/DENSE/LaMoD-DENSE-SkipDiffusion-050-Lyon69_ene_al--53.npy\n"
     ]
    },
    {
     "name": "stderr",
     "output_type": "stream",
     "text": [
      "52it [01:22,  2.32s/it]"
     ]
    },
    {
     "name": "stdout",
     "output_type": "stream",
     "text": [
      "Save to /scratch/jx8fh/2025-01-04-LaMoD-variability/DENSE/LaMoD-DENSE-SkipDiffusion-051-Lyon69_ene_al--67.npy\n"
     ]
    },
    {
     "name": "stderr",
     "output_type": "stream",
     "text": [
      "53it [01:24,  2.14s/it]"
     ]
    },
    {
     "name": "stdout",
     "output_type": "stream",
     "text": [
      "Save to /scratch/jx8fh/2025-01-04-LaMoD-variability/DENSE/LaMoD-DENSE-SkipDiffusion-052-Lyon69_ene_al--81.npy\n"
     ]
    },
    {
     "name": "stderr",
     "output_type": "stream",
     "text": [
      "54it [01:27,  2.32s/it]"
     ]
    },
    {
     "name": "stdout",
     "output_type": "stream",
     "text": [
      "Save to /scratch/jx8fh/2025-01-04-LaMoD-variability/DENSE/LaMoD-DENSE-SkipDiffusion-053-Lyon_Cha_Jea-47.npy\n"
     ]
    },
    {
     "name": "stderr",
     "output_type": "stream",
     "text": [
      "55it [01:29,  2.37s/it]"
     ]
    },
    {
     "name": "stdout",
     "output_type": "stream",
     "text": [
      "Save to /scratch/jx8fh/2025-01-04-LaMoD-variability/DENSE/LaMoD-DENSE-SkipDiffusion-054-Lyon_Cha_Jea-89.npy\n"
     ]
    },
    {
     "name": "stderr",
     "output_type": "stream",
     "text": [
      "56it [01:31,  2.08s/it]"
     ]
    },
    {
     "name": "stdout",
     "output_type": "stream",
     "text": [
      "Save to /scratch/jx8fh/2025-01-04-LaMoD-variability/DENSE/LaMoD-DENSE-SkipDiffusion-055-Lyon_Ene_Alex--38.npy\n"
     ]
    },
    {
     "name": "stderr",
     "output_type": "stream",
     "text": [
      "57it [01:32,  1.88s/it]"
     ]
    },
    {
     "name": "stdout",
     "output_type": "stream",
     "text": [
      "Save to /scratch/jx8fh/2025-01-04-LaMoD-variability/DENSE/LaMoD-DENSE-SkipDiffusion-056-Lyon_Ene_Alex--52.npy\n"
     ]
    },
    {
     "name": "stderr",
     "output_type": "stream",
     "text": [
      "58it [01:33,  1.69s/it]"
     ]
    },
    {
     "name": "stdout",
     "output_type": "stream",
     "text": [
      "Save to /scratch/jx8fh/2025-01-04-LaMoD-variability/DENSE/LaMoD-DENSE-SkipDiffusion-057-Lyon_Ene_Alex--66.npy\n"
     ]
    },
    {
     "name": "stderr",
     "output_type": "stream",
     "text": [
      "59it [01:35,  1.71s/it]"
     ]
    },
    {
     "name": "stdout",
     "output_type": "stream",
     "text": [
      "Save to /scratch/jx8fh/2025-01-04-LaMoD-variability/DENSE/LaMoD-DENSE-SkipDiffusion-058-Lyon_d04_scanA--46.npy\n"
     ]
    },
    {
     "name": "stderr",
     "output_type": "stream",
     "text": [
      "60it [01:37,  1.72s/it]"
     ]
    },
    {
     "name": "stdout",
     "output_type": "stream",
     "text": [
      "Save to /scratch/jx8fh/2025-01-04-LaMoD-variability/DENSE/LaMoD-DENSE-SkipDiffusion-059-Lyon_d04_scanA--18.npy\n"
     ]
    },
    {
     "name": "stderr",
     "output_type": "stream",
     "text": [
      "61it [01:39,  1.97s/it]"
     ]
    },
    {
     "name": "stdout",
     "output_type": "stream",
     "text": [
      "Save to /scratch/jx8fh/2025-01-04-LaMoD-variability/DENSE/LaMoD-DENSE-SkipDiffusion-060-Lyon_d04_scanA--32.npy\n"
     ]
    },
    {
     "name": "stderr",
     "output_type": "stream",
     "text": [
      "62it [01:40,  1.59s/it]"
     ]
    },
    {
     "name": "stdout",
     "output_type": "stream",
     "text": [
      "Save to /scratch/jx8fh/2025-01-04-LaMoD-variability/DENSE/LaMoD-DENSE-SkipDiffusion-061-OB015-37.npy\n"
     ]
    },
    {
     "name": "stderr",
     "output_type": "stream",
     "text": [
      "63it [01:41,  1.29s/it]"
     ]
    },
    {
     "name": "stdout",
     "output_type": "stream",
     "text": [
      "Save to /scratch/jx8fh/2025-01-04-LaMoD-variability/DENSE/LaMoD-DENSE-SkipDiffusion-062-OB015-77.npy\n"
     ]
    },
    {
     "name": "stderr",
     "output_type": "stream",
     "text": [
      "64it [01:41,  1.04s/it]"
     ]
    },
    {
     "name": "stdout",
     "output_type": "stream",
     "text": [
      "Save to /scratch/jx8fh/2025-01-04-LaMoD-variability/DENSE/LaMoD-DENSE-SkipDiffusion-063-OB016-13.npy\n"
     ]
    },
    {
     "name": "stderr",
     "output_type": "stream",
     "text": [
      "65it [01:42,  1.14it/s]"
     ]
    },
    {
     "name": "stdout",
     "output_type": "stream",
     "text": [
      "Save to /scratch/jx8fh/2025-01-04-LaMoD-variability/DENSE/LaMoD-DENSE-SkipDiffusion-064-OB016-39.npy\n"
     ]
    },
    {
     "name": "stderr",
     "output_type": "stream",
     "text": [
      "66it [01:42,  1.34it/s]"
     ]
    },
    {
     "name": "stdout",
     "output_type": "stream",
     "text": [
      "Save to /scratch/jx8fh/2025-01-04-LaMoD-variability/DENSE/LaMoD-DENSE-SkipDiffusion-065-OB017-25.npy\n"
     ]
    },
    {
     "name": "stderr",
     "output_type": "stream",
     "text": [
      "67it [01:42,  1.59it/s]"
     ]
    },
    {
     "name": "stdout",
     "output_type": "stream",
     "text": [
      "Save to /scratch/jx8fh/2025-01-04-LaMoD-variability/DENSE/LaMoD-DENSE-SkipDiffusion-066-OB017-39.npy\n"
     ]
    },
    {
     "name": "stderr",
     "output_type": "stream",
     "text": [
      "68it [01:43,  1.78it/s]"
     ]
    },
    {
     "name": "stdout",
     "output_type": "stream",
     "text": [
      "Save to /scratch/jx8fh/2025-01-04-LaMoD-variability/DENSE/LaMoD-DENSE-SkipDiffusion-067-OB018-94.npy\n"
     ]
    },
    {
     "name": "stderr",
     "output_type": "stream",
     "text": [
      "69it [01:43,  1.78it/s]"
     ]
    },
    {
     "name": "stdout",
     "output_type": "stream",
     "text": [
      "Save to /scratch/jx8fh/2025-01-04-LaMoD-variability/DENSE/LaMoD-DENSE-SkipDiffusion-068-OB018-60.npy\n"
     ]
    },
    {
     "name": "stderr",
     "output_type": "stream",
     "text": [
      "70it [01:44,  1.81it/s]"
     ]
    },
    {
     "name": "stdout",
     "output_type": "stream",
     "text": [
      "Save to /scratch/jx8fh/2025-01-04-LaMoD-variability/DENSE/LaMoD-DENSE-SkipDiffusion-069-OB018-77.npy\n"
     ]
    },
    {
     "name": "stderr",
     "output_type": "stream",
     "text": [
      "71it [01:45,  1.76it/s]"
     ]
    },
    {
     "name": "stdout",
     "output_type": "stream",
     "text": [
      "Save to /scratch/jx8fh/2025-01-04-LaMoD-variability/DENSE/LaMoD-DENSE-SkipDiffusion-070-OB019--56.npy\n"
     ]
    },
    {
     "name": "stderr",
     "output_type": "stream",
     "text": [
      "72it [01:45,  1.62it/s]"
     ]
    },
    {
     "name": "stdout",
     "output_type": "stream",
     "text": [
      "Save to /scratch/jx8fh/2025-01-04-LaMoD-variability/DENSE/LaMoD-DENSE-SkipDiffusion-071-OB019--40.npy\n"
     ]
    },
    {
     "name": "stderr",
     "output_type": "stream",
     "text": [
      "73it [01:47,  1.23it/s]"
     ]
    },
    {
     "name": "stdout",
     "output_type": "stream",
     "text": [
      "Save to /scratch/jx8fh/2025-01-04-LaMoD-variability/DENSE/LaMoD-DENSE-SkipDiffusion-072-P117-50.npy\n"
     ]
    },
    {
     "name": "stderr",
     "output_type": "stream",
     "text": [
      "74it [01:48,  1.07s/it]"
     ]
    },
    {
     "name": "stdout",
     "output_type": "stream",
     "text": [
      "Save to /scratch/jx8fh/2025-01-04-LaMoD-variability/DENSE/LaMoD-DENSE-SkipDiffusion-073-P117-60.npy\n"
     ]
    },
    {
     "name": "stderr",
     "output_type": "stream",
     "text": [
      "75it [01:50,  1.26s/it]"
     ]
    },
    {
     "name": "stdout",
     "output_type": "stream",
     "text": [
      "Save to /scratch/jx8fh/2025-01-04-LaMoD-variability/DENSE/LaMoD-DENSE-SkipDiffusion-074-P117-69.npy\n"
     ]
    },
    {
     "name": "stderr",
     "output_type": "stream",
     "text": [
      "76it [01:51,  1.30s/it]"
     ]
    },
    {
     "name": "stdout",
     "output_type": "stream",
     "text": [
      "Save to /scratch/jx8fh/2025-01-04-LaMoD-variability/DENSE/LaMoD-DENSE-SkipDiffusion-075-P117-79.npy\n"
     ]
    },
    {
     "name": "stderr",
     "output_type": "stream",
     "text": [
      "77it [01:53,  1.37s/it]"
     ]
    },
    {
     "name": "stdout",
     "output_type": "stream",
     "text": [
      "Save to /scratch/jx8fh/2025-01-04-LaMoD-variability/DENSE/LaMoD-DENSE-SkipDiffusion-076-StFrancis_DENSE10A--39.npy\n"
     ]
    },
    {
     "name": "stderr",
     "output_type": "stream",
     "text": [
      "78it [01:55,  1.47s/it]"
     ]
    },
    {
     "name": "stdout",
     "output_type": "stream",
     "text": [
      "Save to /scratch/jx8fh/2025-01-04-LaMoD-variability/DENSE/LaMoD-DENSE-SkipDiffusion-077-StFrancis_DENSE10A--23.npy\n"
     ]
    },
    {
     "name": "stderr",
     "output_type": "stream",
     "text": [
      "79it [01:56,  1.35s/it]"
     ]
    },
    {
     "name": "stdout",
     "output_type": "stream",
     "text": [
      "Save to /scratch/jx8fh/2025-01-04-LaMoD-variability/DENSE/LaMoD-DENSE-SkipDiffusion-078-StFrancis_DENSE11A-13.npy\n"
     ]
    },
    {
     "name": "stderr",
     "output_type": "stream",
     "text": [
      "80it [01:57,  1.23s/it]"
     ]
    },
    {
     "name": "stdout",
     "output_type": "stream",
     "text": [
      "Save to /scratch/jx8fh/2025-01-04-LaMoD-variability/DENSE/LaMoD-DENSE-SkipDiffusion-079-StFrancis_DENSE11A-29.npy\n"
     ]
    },
    {
     "name": "stderr",
     "output_type": "stream",
     "text": [
      "81it [01:57,  1.14s/it]"
     ]
    },
    {
     "name": "stdout",
     "output_type": "stream",
     "text": [
      "Save to /scratch/jx8fh/2025-01-04-LaMoD-variability/DENSE/LaMoD-DENSE-SkipDiffusion-080-StFrancis_DENSE11A-45.npy\n"
     ]
    },
    {
     "name": "stderr",
     "output_type": "stream",
     "text": [
      "82it [02:00,  1.56s/it]"
     ]
    },
    {
     "name": "stdout",
     "output_type": "stream",
     "text": [
      "Save to /scratch/jx8fh/2025-01-04-LaMoD-variability/DENSE/LaMoD-DENSE-SkipDiffusion-081-UVA_04--106.npy\n"
     ]
    },
    {
     "name": "stderr",
     "output_type": "stream",
     "text": [
      "83it [02:02,  1.75s/it]"
     ]
    },
    {
     "name": "stdout",
     "output_type": "stream",
     "text": [
      "Save to /scratch/jx8fh/2025-01-04-LaMoD-variability/DENSE/LaMoD-DENSE-SkipDiffusion-082-UVA_04--125.npy\n"
     ]
    },
    {
     "name": "stderr",
     "output_type": "stream",
     "text": [
      "84it [02:04,  1.74s/it]"
     ]
    },
    {
     "name": "stdout",
     "output_type": "stream",
     "text": [
      "Save to /scratch/jx8fh/2025-01-04-LaMoD-variability/DENSE/LaMoD-DENSE-SkipDiffusion-083-UVA_04--144.npy\n"
     ]
    },
    {
     "name": "stderr",
     "output_type": "stream",
     "text": [
      "85it [02:05,  1.66s/it]"
     ]
    },
    {
     "name": "stdout",
     "output_type": "stream",
     "text": [
      "Save to /scratch/jx8fh/2025-01-04-LaMoD-variability/DENSE/LaMoD-DENSE-SkipDiffusion-084-UVA_05192021-57.npy\n"
     ]
    },
    {
     "name": "stderr",
     "output_type": "stream",
     "text": [
      "86it [02:07,  1.68s/it]"
     ]
    },
    {
     "name": "stdout",
     "output_type": "stream",
     "text": [
      "Save to /scratch/jx8fh/2025-01-04-LaMoD-variability/DENSE/LaMoD-DENSE-SkipDiffusion-085-UVA_05192021-76.npy\n"
     ]
    },
    {
     "name": "stderr",
     "output_type": "stream",
     "text": [
      "87it [02:09,  1.68s/it]"
     ]
    },
    {
     "name": "stdout",
     "output_type": "stream",
     "text": [
      "Save to /scratch/jx8fh/2025-01-04-LaMoD-variability/DENSE/LaMoD-DENSE-SkipDiffusion-086-UVA_05192021-96.npy\n"
     ]
    },
    {
     "name": "stderr",
     "output_type": "stream",
     "text": [
      "88it [02:11,  1.78s/it]"
     ]
    },
    {
     "name": "stdout",
     "output_type": "stream",
     "text": [
      "Save to /scratch/jx8fh/2025-01-04-LaMoD-variability/DENSE/LaMoD-DENSE-SkipDiffusion-087-UVA_05--77.npy\n"
     ]
    },
    {
     "name": "stderr",
     "output_type": "stream",
     "text": [
      "89it [02:13,  1.81s/it]"
     ]
    },
    {
     "name": "stdout",
     "output_type": "stream",
     "text": [
      "Save to /scratch/jx8fh/2025-01-04-LaMoD-variability/DENSE/LaMoD-DENSE-SkipDiffusion-088-UVA_05--93.npy\n"
     ]
    },
    {
     "name": "stderr",
     "output_type": "stream",
     "text": [
      "90it [02:14,  1.76s/it]"
     ]
    },
    {
     "name": "stdout",
     "output_type": "stream",
     "text": [
      "Save to /scratch/jx8fh/2025-01-04-LaMoD-variability/DENSE/LaMoD-DENSE-SkipDiffusion-089-UVA_05--109.npy\n"
     ]
    },
    {
     "name": "stderr",
     "output_type": "stream",
     "text": [
      "91it [02:16,  1.75s/it]"
     ]
    },
    {
     "name": "stdout",
     "output_type": "stream",
     "text": [
      "Save to /scratch/jx8fh/2025-01-04-LaMoD-variability/DENSE/LaMoD-DENSE-SkipDiffusion-090-UVA_07-12.npy\n"
     ]
    },
    {
     "name": "stderr",
     "output_type": "stream",
     "text": [
      "92it [02:18,  1.71s/it]"
     ]
    },
    {
     "name": "stdout",
     "output_type": "stream",
     "text": [
      "Save to /scratch/jx8fh/2025-01-04-LaMoD-variability/DENSE/LaMoD-DENSE-SkipDiffusion-091-UVA_07-28.npy\n"
     ]
    },
    {
     "name": "stderr",
     "output_type": "stream",
     "text": [
      "93it [02:19,  1.72s/it]"
     ]
    },
    {
     "name": "stdout",
     "output_type": "stream",
     "text": [
      "Save to /scratch/jx8fh/2025-01-04-LaMoD-variability/DENSE/LaMoD-DENSE-SkipDiffusion-092-UVA_07-44.npy\n"
     ]
    },
    {
     "name": "stderr",
     "output_type": "stream",
     "text": [
      "94it [02:21,  1.59s/it]"
     ]
    },
    {
     "name": "stdout",
     "output_type": "stream",
     "text": [
      "Save to /scratch/jx8fh/2025-01-04-LaMoD-variability/DENSE/LaMoD-DENSE-SkipDiffusion-093-UVA_08_A_U1-18.npy\n"
     ]
    },
    {
     "name": "stderr",
     "output_type": "stream",
     "text": [
      "95it [02:22,  1.48s/it]"
     ]
    },
    {
     "name": "stdout",
     "output_type": "stream",
     "text": [
      "Save to /scratch/jx8fh/2025-01-04-LaMoD-variability/DENSE/LaMoD-DENSE-SkipDiffusion-094-UVA_08_A_U1-34.npy\n"
     ]
    },
    {
     "name": "stderr",
     "output_type": "stream",
     "text": [
      "96it [02:23,  1.45s/it]"
     ]
    },
    {
     "name": "stdout",
     "output_type": "stream",
     "text": [
      "Save to /scratch/jx8fh/2025-01-04-LaMoD-variability/DENSE/LaMoD-DENSE-SkipDiffusion-095-UVA_08_A_U1-50.npy\n"
     ]
    },
    {
     "name": "stderr",
     "output_type": "stream",
     "text": [
      "97it [02:25,  1.47s/it]"
     ]
    },
    {
     "name": "stdout",
     "output_type": "stream",
     "text": [
      "Save to /scratch/jx8fh/2025-01-04-LaMoD-variability/DENSE/LaMoD-DENSE-SkipDiffusion-096-UVA_09_A_U1--21.npy\n"
     ]
    },
    {
     "name": "stderr",
     "output_type": "stream",
     "text": [
      "98it [02:26,  1.50s/it]"
     ]
    },
    {
     "name": "stdout",
     "output_type": "stream",
     "text": [
      "Save to /scratch/jx8fh/2025-01-04-LaMoD-variability/DENSE/LaMoD-DENSE-SkipDiffusion-097-UVA_09_A_U1--37.npy\n"
     ]
    },
    {
     "name": "stderr",
     "output_type": "stream",
     "text": [
      "99it [02:28,  1.45s/it]"
     ]
    },
    {
     "name": "stdout",
     "output_type": "stream",
     "text": [
      "Save to /scratch/jx8fh/2025-01-04-LaMoD-variability/DENSE/LaMoD-DENSE-SkipDiffusion-098-UVA_09_A_U1--53.npy\n"
     ]
    },
    {
     "name": "stderr",
     "output_type": "stream",
     "text": [
      "100it [02:29,  1.44s/it]"
     ]
    },
    {
     "name": "stdout",
     "output_type": "stream",
     "text": [
      "Save to /scratch/jx8fh/2025-01-04-LaMoD-variability/DENSE/LaMoD-DENSE-SkipDiffusion-099-UVA_11_A_U1--55.npy\n"
     ]
    },
    {
     "name": "stderr",
     "output_type": "stream",
     "text": [
      "101it [02:31,  1.42s/it]"
     ]
    },
    {
     "name": "stdout",
     "output_type": "stream",
     "text": [
      "Save to /scratch/jx8fh/2025-01-04-LaMoD-variability/DENSE/LaMoD-DENSE-SkipDiffusion-100-UVA_11_A_U1--79.npy\n"
     ]
    },
    {
     "name": "stderr",
     "output_type": "stream",
     "text": [
      "102it [02:31,  1.49s/it]"
     ]
    },
    {
     "name": "stdout",
     "output_type": "stream",
     "text": [
      "Save to /scratch/jx8fh/2025-01-04-LaMoD-variability/DENSE/LaMoD-DENSE-SkipDiffusion-101-UVA_11_A_U1--103.npy\n"
     ]
    },
    {
     "name": "stderr",
     "output_type": "stream",
     "text": [
      "\n"
     ]
    }
   ],
   "source": [
    "from modules.data.processing.strain_analysis.pixelstrain import pixelstrain\n",
    "from modules.data.processing.strain_analysis.resample_strain_matrix import resample_strain_matrix_2d\n",
    "from modules.data.processing.strain_analysis.six_segments_core import six_segments_core, get_various_segmental_strain_data\n",
    "from skimage.transform import resize\n",
    "from skimage.morphology import dilation, disk, closing\n",
    "import tqdm\n",
    "# check_data_idx = 0\n",
    "n_repeats = 1\n",
    "my_pred_disps = []\n",
    "skip_diffusion = True        \n",
    "DENSE_save_pred_dir = Path('/scratch/jx8fh/2025-01-04-LaMoD-variability/DENSE')\n",
    "\n",
    "for check_data_idx, check_datum in tqdm.tqdm(enumerate(test_DENSE_data)):    \n",
    "    # Get the mask\n",
    "    # inference_mask = torch.from_numpy(check_datum['DENSE_myo_masks'][...,0])\n",
    "    mask_GT = (np.abs(check_datum['DENSE_Lag_displacement_field_X'][...,0]) + np.abs(check_datum['DENSE_Lag_displacement_field_Y'][...,0])) > 0\n",
    "    inference_mask = torch.from_numpy(mask_GT)\n",
    "    \n",
    "    # Prepare Pytorch tensor\n",
    "    inference_input_video      = torch.from_numpy(check_datum['DENSE_myo_masks_rescaled']).to(device).moveaxis(-1,0)[None, None]\n",
    "    # inference_input_video_ori_frame = check_datum['ori_n_frames']\n",
    "    inference_input_video_ori_frame = inference_input_video.shape[2]\n",
    "\n",
    "    patient_repeats = []\n",
    "    for repeat_idx in range(n_repeats):        \n",
    "        inference_output_dict = network.inference(\n",
    "            inference_input_video, \n",
    "            ori_n_frames=[inference_input_video_ori_frame],\n",
    "            # skip_diffusion=False)[0]\n",
    "            skip_diffusion=True)[0]\n",
    "        # Extract prediction\n",
    "        inference_disp = inference_output_dict['LaMoD_disp'].detach().cpu() / 2.73\n",
    "\n",
    "        # Compute the strain \n",
    "        H, W = inference_disp.shape[-2:]\n",
    "        X, Y = np.meshgrid(np.arange(W), np.arange(H))\n",
    "        dXt = np.moveaxis(inference_disp[0,0].numpy(), 0, -1)\n",
    "        dYt = np.moveaxis(inference_disp[0,1].numpy(), 0, -1)\n",
    "        mask = inference_mask.numpy()\n",
    "        Nfr = inference_disp.shape[2]\n",
    "        strain = pixelstrain(\n",
    "            X=X, Y=Y, \n",
    "            dXt=dXt, dYt=dYt, \n",
    "            mask=mask, times=np.arange(Nfr))\n",
    "        strainCC = strain['CC']\n",
    "\n",
    "        # re-compute the GT strain to make sure the prediction and GT share the sanme strain computation method\n",
    "        \n",
    "        Nfr_GT = check_datum['DENSE_Lag_displacement_field_X'].shape[2]\n",
    "        strain_GT = pixelstrain(\n",
    "            X=X, Y=Y, \n",
    "            dXt=check_datum['DENSE_Lag_displacement_field_X'], \n",
    "            dYt=check_datum['DENSE_Lag_displacement_field_Y'], \n",
    "            mask=mask_GT, times=np.arange(Nfr_GT))\n",
    "        \n",
    "        # Compute segmental strain\n",
    "        DENSE_origin = check_datum['AnalysisInfo']['PositionA'] - np.array([check_datum['DENSE_myo_mask_bbox'][2], check_datum['DENSE_myo_mask_bbox'][0]])\n",
    "        DENSE_insertion = check_datum['AnalysisInfo']['PositionB'] - np.array([check_datum['DENSE_myo_mask_bbox'][2], check_datum['DENSE_myo_mask_bbox'][0]])\n",
    "        recompute_strain = get_various_segmental_strain_data(\n",
    "            strain_images=strain['CC'], \n",
    "            strain_mask=~np.isnan(strain['CC'][...,0]), \n",
    "            origin=DENSE_origin, \n",
    "            # insertion=np.array([24,0]),\n",
    "            insertion=DENSE_insertion,\n",
    "            enable_offset=False,\n",
    "            offset_degrees=[90, 120, 120],\n",
    "            generate_layerid_map=False)\n",
    "\n",
    "        datum_n_valid_frames = Nfr\n",
    "        DENSE_time_stamps = check_datum['DENSE_frame_time_stamps']\n",
    "        # time_stamps = check_datum['cine_frame_time_stamps'][:cine_datum_n_valid_frames]\n",
    "        \n",
    "        DENSE_strain_imgs = strain_GT['CC']\n",
    "        DENSE_strain_mask = np.abs(check_datum['DENSE_Lag_displacement_field_X'][...,0])>1e-5        \n",
    "        DENSE_recompute_strain = get_various_segmental_strain_data(\n",
    "            DENSE_strain_imgs, \n",
    "            DENSE_strain_mask, \n",
    "            DENSE_origin, \n",
    "            DENSE_insertion,\n",
    "            layerid_map = None,\n",
    "            generate_layerid_map=True)\n",
    "        \n",
    "        # for strainmat_name in ['CCs4', 'CCs6', 'CCs18']:\n",
    "        #     DENSE_recompute_strain[strainmat_name+'Resampled'] = resample_strain_matrix_2d(DENSE_recompute_strain[strainmat_name], DENSE_time_stamps, cine_time_stamps)\n",
    "        #     recompute_strain[strainmat_name+'Resampled'] = resample_strain_matrix_2d(cine_recompute_strain[strainmat_name], cine_time_stamps, DENSE_time_stamps)\n",
    "\n",
    "        # Compose the dictionary and save to file\n",
    "        # DENSE_input_save_pred_dir = Path('debug/notebooks/2025-01-01-LaMoD-variability-cine')\n",
    "        # cine_save_pred_dir.mkdir(exist_ok=True, parents=True)\n",
    "\n",
    "        # compute the masked displacement field\n",
    "        inference_disp_masked = inference_disp * inference_mask[None]\n",
    "\n",
    "        save_dict = {\n",
    "            'disp_GT': np.concatenate((check_datum['DENSE_Lag_displacement_field_X'][None], check_datum['DENSE_Lag_displacement_field_Y'][None]), axis=0), # [2, H, W, Nfr]\n",
    "            'disp_pred': np.moveaxis(inference_disp_masked.numpy()[0], 1, -1),\n",
    "            'disp_mask': inference_mask.numpy(),\n",
    "            'strain_GT': DENSE_strain_imgs,\n",
    "            'strain_pred': strain['CC'],            \n",
    "            }\n",
    "        for strainmat_name in recompute_strain.keys():\n",
    "            save_dict[strainmat_name+'_pred'] = recompute_strain[strainmat_name]\n",
    "        for strainmat_name in DENSE_recompute_strain.keys():\n",
    "            save_dict[strainmat_name+'_GT'] = DENSE_recompute_strain[strainmat_name]\n",
    "        \n",
    "        patient_repeats.append(save_dict)\n",
    "    \n",
    "    # save file\n",
    "    patient_id = check_datum['patient_id']\n",
    "    datum_slide_location = check_datum['DENSE_slice_location']\n",
    "    save_path = DENSE_save_pred_dir / f'LaMoD-DENSE-SkipDiffusion-{check_data_idx:03d}-{patient_id}-{int(np.floor(datum_slide_location))}.npy'\n",
    "    np.save(save_path, patient_repeats)\n",
    "    print(f'Save to {save_path}')\n",
    "    # break"
   ]
  },
  {
   "cell_type": "code",
   "execution_count": 10,
   "metadata": {},
   "outputs": [
    {
     "name": "stdout",
     "output_type": "stream",
     "text": [
      "patient_id                                                   033                 \n",
      "DENSE_slice_mat_filename                                     /p/miauva/data/Jerry/medical-images/Cardiac-FromKen/Yu-DENSE-data/033_S03_auto.3_mid2_ROI.3.mat\n",
      "DENSE_slice_location                                         105.74763877719     \n",
      "DENSE_frame_time_stamps                                      (51,)               \n",
      "DENSE_Lag_displacement_field_X                               (48, 48, 51)        \n",
      "DENSE_Lag_displacement_field_Y                               (48, 48, 51)        \n",
      "DENSE_myo_masks                                              (48, 48, 51)        \n",
      "DENSE_myo_mask_bbox                                          (30, 78, 39, 87)    \n",
      "DENSE_myo_masks_rescaled                                     (128, 128, 51)      \n",
      "DENSE_n_frames_all                                           51                  \n",
      "DENSE_frame_indices_with_myo_contour                         (51,)               \n",
      "out_of_box_flag                                              False               \n",
      "TransmuralStrainInfo                                         dict_keys(['Err', 'Ecc', 'E1', 'E2', 'Twist', 'CURE', 'RURE'])\n",
      "SequenceInfo                                                 (2, 3)              \n",
      "StrainInfo                                                   dict_keys(['X', 'Y', 'Faces', 'Vertices', 'PolarOrientation', 'Mask', 'XX', 'YY', 'XY', 'YX', 'RR', 'CC', 'RC', 'CR', 'p1', 'p2', 'p1or'])\n",
      "ROIInfo                                                      dict_keys(['ROIType', 'RestingContour', 'Contour'])\n",
      "AnalysisInfo                                                 dict_keys(['ResampleMethod', 'ResampleDistance', 'SpatialSmoothing', 'TemporalOrder', 'Xseed', 'Yseed', 'Zseed', 'FramesForAnalysis', 'Nmodel', 'PositionA', 'PositionB', 'Clockwise'])\n",
      "DENSEInfo                                                    dict_keys(['Name', 'UID', 'Type', 'MagIndex', 'PhaIndex', 'Number', 'PixelSpacing', 'Scale', 'EncFreq', 'SwapFlag', 'NegFlag'])\n",
      "AnalysisInstanceUID                                          1.3.6.1.4.1.9590.100.1.2.213204330012604689815657762703095175390\n",
      "DENSE_strain_CC                                              (48, 48, 51)        \n",
      "DENSE_strain_CCs6                                            (6, 51)             \n",
      "DENSE_strain_CCs18                                           (18, 51)            \n",
      "DENSE_strain_CCs_saved                                       dict_keys(['ResampleMethod', 'ResampleDistance', 'SpatialSmoothing', 'TemporalOrder', 'Xseed', 'Yseed', 'Zseed', 'FramesForAnalysis', 'Nmodel', 'PositionA', 'PositionB', 'Clockwise'])\n"
     ]
    }
   ],
   "source": [
    "check_dict(check_datum)"
   ]
  },
  {
   "cell_type": "code",
   "execution_count": 21,
   "metadata": {},
   "outputs": [],
   "source": [
    "inference_disp_masked = inference_disp * inference_mask[None]"
   ]
  },
  {
   "cell_type": "code",
   "execution_count": 22,
   "metadata": {},
   "outputs": [
    {
     "data": {
      "text/plain": [
       "torch.Size([1, 2, 56, 48, 48])"
      ]
     },
     "execution_count": 22,
     "metadata": {},
     "output_type": "execute_result"
    }
   ],
   "source": [
    "inference_disp_masked.shape"
   ]
  },
  {
   "cell_type": "code",
   "execution_count": 26,
   "metadata": {},
   "outputs": [
    {
     "data": {
      "text/plain": [
       "(1, 48, 48, 57)"
      ]
     },
     "execution_count": 26,
     "metadata": {},
     "output_type": "execute_result"
    }
   ],
   "source": [
    "check_datum['DENSE_Lag_displacement_field_X'][None].shape"
   ]
  },
  {
   "cell_type": "code",
   "execution_count": 41,
   "metadata": {},
   "outputs": [
    {
     "data": {
      "text/plain": [
       "<matplotlib.image.AxesImage at 0x7f8ed9eb7880>"
      ]
     },
     "execution_count": 41,
     "metadata": {},
     "output_type": "execute_result"
    },
    {
     "data": {
      "image/png": "[encoded data removed]",
      "text/plain": [
       "<Figure size 640x480 with 1 Axes>"
      ]
     },
     "metadata": {},
     "output_type": "display_data"
    }
   ],
   "source": [
    "plt.imshow(inference_mask)"
   ]
  },
  {
   "cell_type": "code",
   "execution_count": null,
   "metadata": {},
   "outputs": [],
   "source": [
    "plt.imshow(DENSE_strain_mask)"
   ]
  },
  {
   "cell_type": "code",
   "execution_count": 37,
   "metadata": {},
   "outputs": [
    {
     "data": {
      "text/plain": [
       "<matplotlib.image.AxesImage at 0x7f8eec270700>"
      ]
     },
     "execution_count": 37,
     "metadata": {},
     "output_type": "execute_result"
    },
    {
     "data": {
      "image/png": "[encoded data removed]",
      "text/plain": [
       "<Figure size 640x480 with 1 Axes>"
      ]
     },
     "metadata": {},
     "output_type": "display_data"
    }
   ],
   "source": [
    "plt.imshow(check_datum['DENSE_Lag_displacement_field_X'][None][0,...,30])"
   ]
  },
  {
   "cell_type": "code",
   "execution_count": 38,
   "metadata": {},
   "outputs": [
    {
     "data": {
      "text/plain": [
       "<matplotlib.image.AxesImage at 0x7f8edf371900>"
      ]
     },
     "execution_count": 38,
     "metadata": {},
     "output_type": "execute_result"
    },
    {
     "data": {
      "image/png": "[encoded data removed]",
      "text/plain": [
       "<Figure size 640x480 with 1 Axes>"
      ]
     },
     "metadata": {},
     "output_type": "display_data"
    }
   ],
   "source": [
    "plt.imshow(check_datum['DENSE_myo_masks'][...,0])"
   ]
  },
  {
   "cell_type": "code",
   "execution_count": 39,
   "metadata": {},
   "outputs": [
    {
     "data": {
      "text/plain": [
       "<matplotlib.image.AxesImage at 0x7f8ed9ff1150>"
      ]
     },
     "execution_count": 39,
     "metadata": {},
     "output_type": "execute_result"
    },
    {
     "data": {
      "image/png": "[encoded data removed]",
      "text/plain": [
       "<Figure size 640x480 with 1 Axes>"
      ]
     },
     "metadata": {},
     "output_type": "display_data"
    }
   ],
   "source": [
    "plt.imshow(inference_disp[0,0,10] - inference_disp_masked[0,0,10], cmap='gray')"
   ]
  },
  {
   "cell_type": "code",
   "execution_count": 14,
   "metadata": {},
   "outputs": [
    {
     "name": "stdout",
     "output_type": "stream",
     "text": [
      "[25.31962217 25.24238535]\n",
      "[14.3796845   9.85869309]\n"
     ]
    }
   ],
   "source": [
    "print(DENSE_origin)\n",
    "print(DENSE_insertion)"
   ]
  },
  {
   "cell_type": "code",
   "execution_count": 15,
   "metadata": {},
   "outputs": [
    {
     "data": {
      "text/plain": [
       "<matplotlib.image.AxesImage at 0x7f8eeca96d10>"
      ]
     },
     "execution_count": 15,
     "metadata": {},
     "output_type": "execute_result"
    },
    {
     "data": {
      "image/png": "[encoded data removed]",
      "text/plain": [
       "<Figure size 1000x500 with 2 Axes>"
      ]
     },
     "metadata": {},
     "output_type": "display_data"
    }
   ],
   "source": [
    "check_frame_idx = 30\n",
    "fig, axs = plt.subplots(1, 2, figsize=(10,5))\n",
    "axs[0].imshow(strain['CC'][...,check_frame_idx], cmap='jet', vmin=-0.2, vmax=0.2)\n",
    "axs[1].imshow(strain_GT['CC'][...,check_frame_idx], cmap='jet', vmin=-0.2, vmax=0.2)"
   ]
  },
  {
   "cell_type": "code",
   "execution_count": 16,
   "metadata": {},
   "outputs": [
    {
     "data": {
      "text/plain": [
       "<matplotlib.collections.PolyQuadMesh at 0x7f8edfe57190>"
      ]
     },
     "execution_count": 16,
     "metadata": {},
     "output_type": "execute_result"
    },
    {
     "data": {
      "image/png": "[encoded data removed]",
      "text/plain": [
       "<Figure size 2000x500 with 2 Axes>"
      ]
     },
     "metadata": {},
     "output_type": "display_data"
    }
   ],
   "source": [
    "fig, axs = plt.subplots(1, 2, figsize=(20, 5))\n",
    "axs[0].pcolor(recompute_strain['CCs18'], cmap='jet', vmin=-0.2, vmax=0.2)\n",
    "axs[1].pcolor(DENSE_recompute_strain['CCs18'], cmap='jet', vmin=-0.2, vmax=0.2)"
   ]
  },
  {
   "cell_type": "code",
   "execution_count": null,
   "metadata": {},
   "outputs": [],
   "source": []
  }
 ],
 "metadata": {
  "kernelspec": {
   "display_name": "cardiac",
   "language": "python",
   "name": "python3"
  },
  "language_info": {
   "codemirror_mode": {
    "name": "ipython",
    "version": 3
   },
   "file_extension": ".py",
   "mimetype": "text/x-python",
   "name": "python",
   "nbconvert_exporter": "python",
   "pygments_lexer": "ipython3",
   "version": "3.10.12"
  }
 },
 "nbformat": 4,
 "nbformat_minor": 2
}
