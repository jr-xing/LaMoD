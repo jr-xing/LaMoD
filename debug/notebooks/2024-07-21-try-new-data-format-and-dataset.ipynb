{
 "cells": [
  {
   "cell_type": "code",
   "execution_count": 1,
   "metadata": {},
   "outputs": [
    {
     "name": "stdout",
     "output_type": "stream",
     "text": [
      "/sfs/qumulo/qhome/jx8fh/Projects/LaMoD\n"
     ]
    }
   ],
   "source": [
    "%load_ext autoreload\n",
    "%autoreload 2\n",
    "%cd /home/jx8fh/Projects/LaMoD\n",
    "import numpy as np\n",
    "import torch\n",
    "import matplotlib.pyplot as plt\n",
    "from pathlib import Path\n",
    "from modules.data import check_dict"
   ]
  },
  {
   "cell_type": "markdown",
   "metadata": {},
   "source": [
    "# 1. Load Config"
   ]
  },
  {
   "cell_type": "code",
   "execution_count": 2,
   "metadata": {},
   "outputs": [],
   "source": [
    "import json\n",
    "config_filename = 'configs/Pretrain-MotionDecoder.json'\n",
    "config = json.load(open(config_filename, 'r'))"
   ]
  },
  {
   "cell_type": "markdown",
   "metadata": {},
   "source": [
    "# 2. Load Data"
   ]
  },
  {
   "cell_type": "code",
   "execution_count": 12,
   "metadata": {},
   "outputs": [],
   "source": [
    "# Load raw data\n",
    "train_data = np.load(config['data']['train'], allow_pickle=True).tolist()\n",
    "val_data = np.load(config['data']['val'], allow_pickle=True).tolist()\n",
    "test_data = np.load(config['data']['test'], allow_pickle=True).tolist()\n",
    "\n",
    "# Build datasets\n",
    "from modules.dataset import VideoVolDataset\n",
    "train_dataset = VideoVolDataset(train_data, config['datasets']['train'])\n",
    "val_dataset = VideoVolDataset(val_data, config['datasets']['val'])\n",
    "test_dataset = VideoVolDataset(test_data, config['datasets']['test'])"
   ]
  },
  {
   "cell_type": "code",
   "execution_count": 16,
   "metadata": {},
   "outputs": [
    {
     "name": "stdout",
     "output_type": "stream",
     "text": [
      "ori_n_frames                                                 22                  \n",
      "augmented                                                    False               \n",
      "DENSE_slice_mat_filename                                     /p/miauva/data/Jerry/medical-images/Cardiac-FromKen/Yu-DENSE-data/00_Circle_V10_auto.1_ROI.1.mat\n",
      "DENSE_slice_location                                         61.970369270087     \n",
      "subject_id                                                   00_Circle_V10-DENSE \n",
      "slice_idx                                                    0                   \n",
      "slice_full_id                                                00_Circle_V10-0     \n",
      "full_name                                                    00_Circle_V10-DENSE_0\n",
      "DENSE_disp                                                   (2, 40, 48, 48)     \n",
      "myo_masks                                                    (1, 40, 128, 128)   \n"
     ]
    }
   ],
   "source": [
    "check_dict(train_data[0])"
   ]
  },
  {
   "cell_type": "code",
   "execution_count": 17,
   "metadata": {},
   "outputs": [
    {
     "name": "stdout",
     "output_type": "stream",
     "text": [
      "538 538\n"
     ]
    }
   ],
   "source": [
    "print(len(train_data), len(train_dataset))"
   ]
  },
  {
   "cell_type": "code",
   "execution_count": 15,
   "metadata": {},
   "outputs": [
    {
     "name": "stdout",
     "output_type": "stream",
     "text": [
      "src                                                          (1, 127, 1, 40, 128)\n",
      "tar                                                          (1, 127, 1, 40, 128)\n",
      "DENSE_disp                                                   (2, 47, 40, 48)     \n",
      "ori_n_frames                                                 51                  \n",
      "augmented                                                    False               \n",
      "DENSE_slice_mat_filename                                     /p/miauva/data/Jerry/medical-images/Cardiac-FromKen/Yu-DENSE-data/033_S01_base_auto.1_ROI.1.mat\n",
      "DENSE_slice_location                                         76.947609505431     \n",
      "subject_id                                                   033-DENSE           \n",
      "slice_idx                                                    31                  \n",
      "slice_full_id                                                033-31              \n",
      "full_name                                                    033-DENSE_31        \n"
     ]
    }
   ],
   "source": [
    "check_dict(test_dataset[0])"
   ]
  }
 ],
 "metadata": {
  "kernelspec": {
   "display_name": "cardiac",
   "language": "python",
   "name": "python3"
  },
  "language_info": {
   "codemirror_mode": {
    "name": "ipython",
    "version": 3
   },
   "file_extension": ".py",
   "mimetype": "text/x-python",
   "name": "python",
   "nbconvert_exporter": "python",
   "pygments_lexer": "ipython3",
   "version": "3.10.12"
  },
  "orig_nbformat": 4
 },
 "nbformat": 4,
 "nbformat_minor": 2
}
