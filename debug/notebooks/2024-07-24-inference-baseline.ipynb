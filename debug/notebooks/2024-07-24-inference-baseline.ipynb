{
 "cells": [
  {
   "cell_type": "code",
   "execution_count": 1,
   "metadata": {},
   "outputs": [
    {
     "name": "stdout",
     "output_type": "stream",
     "text": [
      "/sfs/qumulo/qhome/jx8fh/Projects/LaMoD\n"
     ]
    }
   ],
   "source": [
    "%load_ext autoreload\n",
    "%autoreload 2\n",
    "# %cd /p/mmcardiac/Jerry/code/CINE-DENSE-Translation\n",
    "%cd /home/jx8fh/Projects/LaMoD\n",
    "import numpy as np\n",
    "import torch\n",
    "import matplotlib.pyplot as plt\n",
    "from pathlib import Path\n",
    "from modules.data import check_dict"
   ]
  },
  {
   "cell_type": "code",
   "execution_count": 5,
   "metadata": {},
   "outputs": [],
   "source": [
    "# USE GPU 3\n",
    "import os\n",
    "os.environ[\"CUDA_VISIBLE_DEVICES\"] = \"0\"\n",
    "device = torch.device(\"cuda:0\" if torch.cuda.is_available() else \"cpu\")"
   ]
  },
  {
   "cell_type": "markdown",
   "metadata": {},
   "source": [
    "# 1. Load Data"
   ]
  },
  {
   "cell_type": "code",
   "execution_count": 3,
   "metadata": {},
   "outputs": [],
   "source": [
    "test_fname = '/scratch/jx8fh/2024-06-22-MICCAI-ShapeMI-Workshop-data/lamod_test.npy'\n",
    "test_data = np.load(test_fname, allow_pickle=True).tolist()"
   ]
  },
  {
   "cell_type": "code",
   "execution_count": 4,
   "metadata": {},
   "outputs": [
    {
     "name": "stdout",
     "output_type": "stream",
     "text": [
      "ori_n_frames                                                 51                  \n",
      "augmented                                                    False               \n",
      "DENSE_slice_mat_filename                                     /p/miauva/data/Jerry/medical-images/Cardiac-FromKen/Yu-DENSE-data/033_S01_base_auto.1_ROI.1.mat\n",
      "DENSE_slice_location                                         76.947609505431     \n",
      "subject_id                                                   033-DENSE           \n",
      "slice_idx                                                    31                  \n",
      "slice_full_id                                                033-31              \n",
      "full_name                                                    033-DENSE_31        \n",
      "DENSE_disp                                                   (2, 40, 48, 48)     \n",
      "myo_masks                                                    (1, 40, 128, 128)   \n"
     ]
    }
   ],
   "source": [
    "check_dict(test_data[0])"
   ]
  },
  {
   "cell_type": "markdown",
   "metadata": {},
   "source": [
    "# 2. Load Config"
   ]
  },
  {
   "cell_type": "code",
   "execution_count": 2,
   "metadata": {},
   "outputs": [],
   "source": [
    "import json\n",
    "config_fname = './configs/baseline-StrainNet.json'\n",
    "config = json.load(open(config_fname))"
   ]
  },
  {
   "cell_type": "markdown",
   "metadata": {},
   "source": [
    "# 3. Build Model"
   ]
  },
  {
   "cell_type": "code",
   "execution_count": 9,
   "metadata": {},
   "outputs": [
    {
     "name": "stdout",
     "output_type": "stream",
     "text": [
      "Unrecognized kwargs: type\n"
     ]
    }
   ],
   "source": [
    "from models import build_model\n",
    "checkpoint_fname = './checkpoints/baseline_StrainNet_motion_regression_he95gnwh.pth'\n",
    "model = build_model(config['networks']['motion_regression'], skip_load_pretrained=True)\n",
    "model.load_state_dict(torch.load(checkpoint_fname))\n",
    "model = model.to(device)"
   ]
  },
  {
   "cell_type": "markdown",
   "metadata": {},
   "source": [
    "# 4. Inference"
   ]
  },
  {
   "cell_type": "code",
   "execution_count": null,
   "metadata": {},
   "outputs": [],
   "source": [
    "from skimage.morphology import dilation, disk, closing\n",
    "from skimage.transform import resize\n",
    "\n",
    "# import torch.nn.functional as F\n",
    "# from tqdm import tqdm\n",
    "# from modules.data.datareader.DENSE_cine_IO_utils import align_n_frames_to\n",
    "# from copy import deepcopy\n",
    "# import torch\n",
    "\n",
    "\n",
    "test_pred_data = []\n",
    "config['training']['disp_masking'] = True\n",
    "config['training']['resize_before_masking'] = False\n",
    "mask_dilation = True\n",
    "mask_closing = True\n",
    "# mask_dilation = mask_closing = True\n",
    "for datum in tqdm(cine_DENSE_data):\n",
    "    if exps_infos[exp_name]['pixel_size'] == '1x1':\n",
    "        myo_masks = datum['cine_cropped_myocardium_masks_rescaled_1mm2']\n",
    "    else:\n",
    "        myo_masks = datum['cine_cropped_myocardium_masks_rescaled_DENSE48']\n",
    "    vol_ori_n_frames = myo_masks.shape[-1]\n",
    "    \n",
    "\n",
    "    DENSE_disp = np.stack([datum['DENSE_Lag_displacement_field_X'], datum['DENSE_Lag_displacement_field_Y']], axis=0)[...,:-1]\n",
    "\n",
    "    DENSE_disp = align_n_frames_to(deepcopy(DENSE_disp), 40)\n",
    "    DENSE_disp_tensor = torch.from_numpy(DENSE_disp).moveaxis(-1,1)[None]\n",
    "\n",
    "    disp_scaling_factor = 1 if exps_infos[exp_name]['pixel_size'] == 'ori' else datum['DENSEInfo']['PixelSpacing'][0]\n",
    "    \n",
    "    disp_mask_src_48 = datum['cine_cropped_myocardium_masks_rescaled_DENSE48'][...,0]\n",
    "    disp_mask_src_48_ori = deepcopy(datum['cine_cropped_myocardium_masks_rescaled_DENSE48'][...,0])\n",
    "    if mask_dilation:\n",
    "        disp_mask_src_48 = dilation(disp_mask_src_48, disk(2))\n",
    "    if mask_closing:\n",
    "        disp_mask_src_48 = closing(disp_mask_src_48, disk(2))\n",
    "    disp_mask_src_48_vol = np.repeat(disp_mask_src_48[...,None], 40, axis=-1)\n",
    "    disp_mask_src_48_tensor = torch.from_numpy(disp_mask_src_48_vol).moveaxis(-1, 0)[None, None].to(torch.float32)\n",
    "    with torch.no_grad():\n",
    "        if exp_name in ['MotionDecoder1x1']:\n",
    "            vol_valid_n_frames = min(40, vol_ori_n_frames) - 1\n",
    "            myo_masks = align_n_frames_to(deepcopy(myo_masks), 41)\n",
    "            myo_masks_tensor = torch.from_numpy(myo_masks).moveaxis(-1,0)[None, None]    \n",
    "            src_vol = myo_masks_tensor[:,:,0:1].repeat(1,1,40,1,1)\n",
    "            tar_vol = myo_masks_tensor[:,:,1:]\n",
    "            DENSE_disp[:,]\n",
    "            batch = {\n",
    "                'src': src_vol,\n",
    "                'tar': tar_vol,\n",
    "                'ori_n_frames': [vol_ori_n_frames],\n",
    "                # 'DENSE_disp': DENSE_disp_pairs[patch_idx]\n",
    "                'DENSE_disp': torch.cat([disp_mask_src_48_tensor, disp_mask_src_48_tensor], dim=1)\n",
    "                # 'DENSE_disp': torch.cat([src, src], dim=1)\n",
    "            }\n",
    "        else:        \n",
    "            vol_valid_n_frames = min(40, vol_ori_n_frames)\n",
    "            myo_masks = align_n_frames_to(deepcopy(myo_masks), 40)\n",
    "            myo_masks_tensor = torch.from_numpy(myo_masks).moveaxis(-1,0)[None, None]    \n",
    "            batch = {\n",
    "                'vol': myo_masks_tensor,\n",
    "                'ori_n_frames': [vol_ori_n_frames],\n",
    "                # 'DENSE_disp': DENSE_disp_pairs[patch_idx]\n",
    "                'disp': torch.cat([disp_mask_src_48_tensor, disp_mask_src_48_tensor], dim=1)\n",
    "                # 'DENSE_disp': torch.cat([src, src], dim=1)\n",
    "            }\n",
    "        total_loss, batch_loss_dict, batch_error_dict, pred_dict, target_dict = \\\n",
    "            trainer.batch_forward(\n",
    "                batch, \n",
    "                networks, \n",
    "                'test', \n",
    "                mode='test', \n",
    "                train_config=config['training'], \n",
    "                full_config=config, \n",
    "                curr_epoch=-1)\n",
    "        # DENSE_disp_GT = target_dict['DENSE_disp'].detach().cpu()\n",
    "        DENSE_disp_pred = pred_dict['DENSE_disp'].detach().cpu() / disp_scaling_factor\n",
    "        \n",
    "        datum_pred = deepcopy(datum)\n",
    "        datum_pred.update({\n",
    "            'DENSE_disp_GT': DENSE_disp_tensor.cpu().numpy(),\n",
    "            'DENSE_disp_pred': DENSE_disp_pred.cpu().numpy(),\n",
    "            # 'reg_disp_pred': reg_disp_pred_merged,        \n",
    "            'myo_masks_src_48': disp_mask_src_48,\n",
    "            'myo_mask_src_48_ori': disp_mask_src_48_ori,\n",
    "            'vol_ori_n_frames': vol_ori_n_frames,\n",
    "            'vol_valid_n_frames': vol_valid_n_frames\n",
    "        })\n",
    "        # datum_pred = {\n",
    "        #     'DENSE_disp_GT': DENSE_disp_tensor.cpu().numpy(),\n",
    "        #     'DENSE_disp_pred': DENSE_disp_pred.cpu().numpy(),\n",
    "        #     # 'reg_disp_pred': reg_disp_pred_merged,        \n",
    "        #     'myo_masks_src_48': disp_mask_src_48,\n",
    "        #     'vol_ori_n_frames': vol_ori_n_frames,\n",
    "        #     'vol_valid_n_frames': vol_valid_n_frames\n",
    "        # }            \n",
    "        test_pred_data.append(datum_pred)\n",
    "print(f'Saving {exp_name} prediction')\n",
    "exps_infos[exp_name]['pred'] = test_pred_data\n",
    "    # break"
   ]
  }
 ],
 "metadata": {
  "kernelspec": {
   "display_name": "cardiac",
   "language": "python",
   "name": "python3"
  },
  "language_info": {
   "codemirror_mode": {
    "name": "ipython",
    "version": 3
   },
   "file_extension": ".py",
   "mimetype": "text/x-python",
   "name": "python",
   "nbconvert_exporter": "python",
   "pygments_lexer": "ipython3",
   "version": "3.10.12"
  },
  "orig_nbformat": 4
 },
 "nbformat": 4,
 "nbformat_minor": 2
}
