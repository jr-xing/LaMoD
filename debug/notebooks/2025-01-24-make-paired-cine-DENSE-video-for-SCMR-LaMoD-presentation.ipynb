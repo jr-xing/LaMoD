{
 "cells": [
  {
   "cell_type": "code",
   "execution_count": 1,
   "metadata": {},
   "outputs": [
    {
     "name": "stdout",
     "output_type": "stream",
     "text": [
      "/sfs/gpfs/tardis/home/jx8fh/Projects/LaMoD\n"
     ]
    }
   ],
   "source": [
    "%load_ext autoreload\n",
    "%autoreload 2\n",
    "# %cd /p/mmcardiac/Jerry/code/CINE-DENSE-Translation\n",
    "%cd /home/jx8fh/Projects/LaMoD\n",
    "import numpy as np\n",
    "import torch\n",
    "import matplotlib.pyplot as plt\n",
    "from pathlib import Path\n",
    "from modules.data import check_dict"
   ]
  },
  {
   "cell_type": "code",
   "execution_count": 2,
   "metadata": {},
   "outputs": [],
   "source": [
    "# 1. cine-DENSE paired data\n",
    "cine_DENSE_fname = '/scratch/jx8fh/2024-04-21-matched-cine-DENSE-from-Yu-all-with-resampled.npy'\n",
    "cine_DENSE_data = np.load(cine_DENSE_fname, allow_pickle=True).tolist()"
   ]
  },
  {
   "cell_type": "code",
   "execution_count": 3,
   "metadata": {},
   "outputs": [
    {
     "name": "stdout",
     "output_type": "stream",
     "text": [
      "length of data: 105\n",
      "AnalysisInfo                                                 dict_keys(['ResampleMethod', 'ResampleDistance', 'SpatialSmoothing', 'TemporalOrder', 'Xseed', 'Yseed', 'Zseed', 'FramesForAnalysis', 'Nmodel', 'PositionA', 'PositionB', 'Clockwise'])\n",
      "AnalysisInstanceUID                                          1.3.6.1.4.1.9590.100.1.2.64946301013757307506911904523491151334\n",
      "DENSEInfo                                                    dict_keys(['Name', 'UID', 'Type', 'MagIndex', 'PhaIndex', 'Number', 'PixelSpacing', 'Scale', 'EncFreq', 'SwapFlag', 'NegFlag'])\n",
      "DENSE_Eul_displacement_field_Multipliers                     (3,)                \n",
      "DENSE_Eul_displacement_field_X                               (48, 48, 51)        \n",
      "DENSE_Eul_displacement_field_Y                               (48, 48, 51)        \n",
      "DENSE_Lag_displacement_field_X                               (48, 48, 51)        \n",
      "DENSE_Lag_displacement_field_Y                               (48, 48, 51)        \n",
      "DENSE_frame_indices_with_myo_contour                         (51,)               \n",
      "DENSE_frame_time_stamps                                      (51,)               \n",
      "DENSE_mag_images                                             (48, 48, 51)        \n",
      "DENSE_mag_images_full                                        (128, 128, 51)      \n",
      "DENSE_myo_mask_bbox                                          (34, 82, 40, 88)    \n",
      "DENSE_myo_masks                                              (48, 48, 51)        \n",
      "DENSE_myo_masks_rescaled                                     (128, 128, 51)      \n",
      "DENSE_n_frames_all                                           51                  \n",
      "DENSE_slice_NegFlag                                          (3,)                \n",
      "DENSE_slice_SwapFlag                                         1                   \n",
      "DENSE_slice_idx                                              0                   \n",
      "DENSE_slice_location                                         76.947609505431     \n",
      "DENSE_slice_mat_filename                                     /p/miauva/data/Jerry/medical-images/Cardiac-FromKen/Yu-DENSE-data/033_S01_base_auto.1_ROI.1.mat\n",
      "ROIInfo                                                      dict_keys(['ROIType', 'RestingContour', 'Contour'])\n",
      "SequenceInfo                                                 (2, 3)              \n",
      "StrainInfo                                                   dict_keys(['X', 'Y', 'Faces', 'Vertices', 'PolarOrientation', 'Mask', 'XX', 'YY', 'XY', 'YX', 'RR', 'CC', 'RC', 'CR', 'p1', 'p2', 'p1or'])\n",
      "TransmuralStrainInfo                                         dict_keys(['Err', 'Ecc', 'E1', 'E2', 'Twist', 'CURE', 'RURE'])\n",
      "cine_cropped_images                                          (128, 128, 20)      \n",
      "cine_cropped_images_bbox                                     list: (4)           \n",
      "cine_cropped_images_rescaled_1mm2                            (128, 128, 20)      \n",
      "cine_cropped_images_rescaled_DENSE48                         (48, 48, 20)        \n",
      "cine_cropped_myocardium_masks                                (128, 128, 20)      \n",
      "cine_cropped_myocardium_masks_bbox                           list: (4)           \n",
      "cine_cropped_myocardium_masks_resampled                      (128, 128, 51)      \n",
      "cine_cropped_myocardium_masks_rescaled_1mm2                  (128, 128, 20)      \n",
      "cine_cropped_myocardium_masks_rescaled_1mm2_resampled        (128, 128, 51)      \n",
      "cine_cropped_myocardium_masks_rescaled_DENSE48               (48, 48, 20)        \n",
      "cine_cropped_myocardium_masks_rescaled_DENSE48_resampled     (48, 48, 51)        \n",
      "cine_dicom_tags                                              list: (20)          \n",
      "cine_frame_time_stamps                                       (20,)               \n",
      "cine_frame_time_stamps_resampled                             (51,)               \n",
      "cine_has_separate_mat_file                                   True                \n",
      "cine_lv_endo_contour                                         (20,)               \n",
      "cine_lv_endo_contour_rescaled_1mm2                           (20,)               \n",
      "cine_lv_endo_contour_rescaled_DENSE48                        (20,)               \n",
      "cine_lv_epi_contour                                          (20,)               \n",
      "cine_lv_epi_contour_rescaled_1mm2                            (20,)               \n",
      "cine_lv_epi_contour_rescaled_DENSE48                         (20,)               \n",
      "cine_resampled_already_exist_flags                           (51,)               \n",
      "cine_rv_insertion_points                                     (2,)                \n",
      "cine_rv_insertion_points_rescaled_1mm2                       (2,)                \n",
      "cine_rv_insertion_points_rescaled_DENSE48                    (2,)                \n",
      "cine_sep_mat_filename                                        /p/miauva/data/Jerry/medical-images/Cardiac-FromKen/Yu-analyzed-cine-data/CRT33/trufi_cine_sa_p2_13.mat\n",
      "cine_slice_has_contour                                       True                \n",
      "cine_slice_idx                                               2                   \n",
      "cine_slice_location                                          76.947638050049     \n",
      "cine_slice_mat_filename                                      /p/miauva/data/Jerry/medical-images/Cardiac-FromKen/Yu-analyzed-cine-data/CRT33/all_AUTO_FUNCTION_2_143.mat\n",
      "cine_slice_name                                              all_AUTO_FUNCTION_2_143-2\n",
      "out_of_box_flag                                              False               \n",
      "patient_id                                                   CRT33               \n"
     ]
    }
   ],
   "source": [
    "print(f\"length of data: {len(cine_DENSE_data)}\")\n",
    "check_dict(cine_DENSE_data[0])"
   ]
  },
  {
   "cell_type": "code",
   "execution_count": 4,
   "metadata": {},
   "outputs": [
    {
     "name": "stdout",
     "output_type": "stream",
     "text": [
      "CCImg                                                        (48, 48, 51)        \n",
      "CCImg_GT                                                     (128, 128, 51)      \n",
      "DENSE_strain                                                 dict_keys(['origin', 'insertion', 'CCs4', 'CCs6', 'CCs18', 'Seg4', 'Seg6', 'Seg18', 'layerid_map', 'CCs4_endo', 'CCs6_endo', 'CCs18_endo', 'CCs4_mid', 'CCs6_mid', 'CCs18_mid', 'CCs4_epi', 'CCs6_epi', 'CCs18_epi', 'CCs4Resampled', 'CCs4_endoResampled', 'CCs4_epiResampled', 'CCs4_midResampled', 'CCs6Resampled', 'CCs6_endoResampled', 'CCs6_epiResampled', 'CCs6_midResampled', 'CCs18Resampled', 'CCs18_endoResampled', 'CCs18_epiResampled', 'CCs18_midResampled'])\n",
      "Diffusion_cine_strain                                        dict_keys(['origin', 'insertion', 'CCs4', 'CCs6', 'CCs18', 'Seg4', 'Seg6', 'Seg18', 'CCs4Resampled', 'CCs6Resampled', 'CCs18Resampled'])\n",
      "UNetR_cine_strain                                            dict_keys(['origin', 'insertion', 'CCs4', 'CCs6', 'CCs18', 'Seg4', 'Seg6', 'Seg18', 'CCs4Resampled', 'CCs6Resampled', 'CCs18Resampled'])\n",
      "StrainNet_cine_strain                                        dict_keys(['origin', 'insertion', 'CCs4', 'CCs6', 'CCs18', 'Seg4', 'Seg6', 'Seg18', 'CCs4Resampled', 'CCs6Resampled', 'CCs18Resampled'])\n",
      "MotionDecoder1x1_cine_strain                                 dict_keys(['origin', 'insertion', 'CCs4', 'CCs6', 'CCs18', 'Seg4', 'Seg6', 'Seg18', 'layerid_map', 'CCs4_endo', 'CCs6_endo', 'CCs18_endo', 'CCs4_mid', 'CCs6_mid', 'CCs18_mid', 'CCs4_epi', 'CCs6_epi', 'CCs18_epi', 'CCs4Resampled', 'CCs4_endoResampled', 'CCs4_epiResampled', 'CCs4_midResampled', 'CCs6Resampled', 'CCs6_endoResampled', 'CCs6_epiResampled', 'CCs6_midResampled', 'CCs18Resampled', 'CCs18_endoResampled', 'CCs18_epiResampled', 'CCs18_midResampled'])\n",
      "MotionDecoder1x1_cine_strain_imgs                            (48, 48, 19)        \n",
      "MotionDecoder1x1_cine_strain_mask                            (48, 48)            \n",
      "UNetROri_cine_strain                                         dict_keys(['origin', 'insertion', 'CCs4', 'CCs6', 'CCs18', 'Seg4', 'Seg6', 'Seg18', 'layerid_map', 'CCs4_endo', 'CCs6_endo', 'CCs18_endo', 'CCs4_mid', 'CCs6_mid', 'CCs18_mid', 'CCs4_epi', 'CCs6_epi', 'CCs18_epi', 'CCs4Resampled', 'CCs4_endoResampled', 'CCs4_epiResampled', 'CCs4_midResampled', 'CCs6Resampled', 'CCs6_endoResampled', 'CCs6_epiResampled', 'CCs6_midResampled', 'CCs18Resampled', 'CCs18_endoResampled', 'CCs18_epiResampled', 'CCs18_midResampled'])\n",
      "UNetROri_cine_strain_imgs                                    (48, 48, 20)        \n",
      "UNetROri_cine_strain_mask                                    (48, 48)            \n",
      "UNetR1x1_cine_strain                                         dict_keys(['origin', 'insertion', 'CCs4', 'CCs6', 'CCs18', 'Seg4', 'Seg6', 'Seg18', 'layerid_map', 'CCs4_endo', 'CCs6_endo', 'CCs18_endo', 'CCs4_mid', 'CCs6_mid', 'CCs18_mid', 'CCs4_epi', 'CCs6_epi', 'CCs18_epi', 'CCs4Resampled', 'CCs4_endoResampled', 'CCs4_epiResampled', 'CCs4_midResampled', 'CCs6Resampled', 'CCs6_endoResampled', 'CCs6_epiResampled', 'CCs6_midResampled', 'CCs18Resampled', 'CCs18_endoResampled', 'CCs18_epiResampled', 'CCs18_midResampled'])\n",
      "UNetR1x1_cine_strain_imgs                                    (48, 48, 20)        \n",
      "UNetR1x1_cine_strain_mask                                    (48, 48)            \n",
      "StrainNetOri_cine_strain                                     dict_keys(['origin', 'insertion', 'CCs4', 'CCs6', 'CCs18', 'Seg4', 'Seg6', 'Seg18', 'layerid_map', 'CCs4_endo', 'CCs6_endo', 'CCs18_endo', 'CCs4_mid', 'CCs6_mid', 'CCs18_mid', 'CCs4_epi', 'CCs6_epi', 'CCs18_epi', 'CCs4Resampled', 'CCs4_endoResampled', 'CCs4_epiResampled', 'CCs4_midResampled', 'CCs6Resampled', 'CCs6_endoResampled', 'CCs6_epiResampled', 'CCs6_midResampled', 'CCs18Resampled', 'CCs18_endoResampled', 'CCs18_epiResampled', 'CCs18_midResampled'])\n",
      "StrainNetOri_cine_strain_imgs                                (48, 48, 20)        \n",
      "StrainNetOri_cine_strain_mask                                (48, 48)            \n",
      "StrainNet1x1_cine_strain                                     dict_keys(['origin', 'insertion', 'CCs4', 'CCs6', 'CCs18', 'Seg4', 'Seg6', 'Seg18', 'layerid_map', 'CCs4_endo', 'CCs6_endo', 'CCs18_endo', 'CCs4_mid', 'CCs6_mid', 'CCs18_mid', 'CCs4_epi', 'CCs6_epi', 'CCs18_epi', 'CCs4Resampled', 'CCs4_endoResampled', 'CCs4_epiResampled', 'CCs4_midResampled', 'CCs6Resampled', 'CCs6_endoResampled', 'CCs6_epiResampled', 'CCs6_midResampled', 'CCs18Resampled', 'CCs18_endoResampled', 'CCs18_epiResampled', 'CCs18_midResampled'])\n",
      "StrainNet1x1_cine_strain_imgs                                (48, 48, 20)        \n",
      "StrainNet1x1_cine_strain_mask                                (48, 48)            \n",
      "MotionDecoder1x1_cine_disp                                   (2, 20, 48, 48)     \n",
      "UNetROri_cine_disp                                           (2, 20, 48, 48)     \n",
      "UNetR1x1_cine_disp                                           (2, 20, 48, 48)     \n",
      "StrainNetOri_cine_disp                                       (2, 20, 48, 48)     \n",
      "StrainNet1x1_cine_disp                                       (2, 20, 48, 48)     \n"
     ]
    }
   ],
   "source": [
    "# 2. cine prediction (disp and strain)\n",
    "# load previous experimnents results\n",
    "data_recompute_strain_fname_prev = '/scratch/jx8fh/2024-06-22-MICCAI-ShapeMI-Workshop-data/2024-05-04-matched-cine-DENSE-from-Yu-all-recompute-strain-DIL2.npy'\n",
    "# data_recompute_strain_fname_prev = '/p/miauva/data/Jerry/medical-images/Cardiac-FromKen/Yu-cine-DENSE-data/2024-05-04-matched-cine-DENSE-from-Yu-all-recompute-strain-DIL2.npy'\n",
    "data_recompute_strain_prev = np.load(data_recompute_strain_fname_prev, allow_pickle=True).tolist()\n",
    "check_dict(data_recompute_strain_prev[0])"
   ]
  },
  {
   "cell_type": "code",
   "execution_count": 5,
   "metadata": {},
   "outputs": [
    {
     "data": {
      "text/plain": [
       "105"
      ]
     },
     "execution_count": 5,
     "metadata": {},
     "output_type": "execute_result"
    }
   ],
   "source": [
    "len(data_recompute_strain_prev)"
   ]
  },
  {
   "cell_type": "code",
   "execution_count": 6,
   "metadata": {},
   "outputs": [],
   "source": [
    "# 3. which cases to check?\n",
    "# debug/notebooks/2025-01-06-plot-all-cine-strain-curves.ipynb\n",
    "# 45  84  43  51  81  82\n",
    "# 7   37  92  102 82  45"
   ]
  },
  {
   "cell_type": "code",
   "execution_count": 7,
   "metadata": {},
   "outputs": [],
   "source": [
    "from IPython.display import HTML\n",
    "from matplotlib import animation\n",
    "from matplotlib import rc\n",
    "from IPython.display import HTML\n",
    "rc('animation', html='jshtml')"
   ]
  },
  {
   "cell_type": "code",
   "execution_count": 8,
   "metadata": {},
   "outputs": [],
   "source": [
    "import copy\n",
    "def get_disp_mask(disp_X, disp_Y, thres=5e-1):\n",
    "    norm = np.sqrt(disp_X**2 + disp_Y**2)\n",
    "    mask = norm > thres\n",
    "    return mask\n",
    "\n",
    "def apply_mask_to_displacement(displacement, mask_thres=5e-1):\n",
    "    \"\"\"\n",
    "    Deep copy the input displacement data and make out-of-mask regions NaN.\n",
    "    \n",
    "    :param displacement: numpy array of shape (2, T, H, W)\n",
    "    :return: masked displacement array of the same shape\n",
    "    \"\"\"\n",
    "    masked_displacement = copy.deepcopy(displacement)\n",
    "    \n",
    "    # Compute mask for a middle time frame\n",
    "    middle_frame = displacement.shape[1] // 2\n",
    "    mask = get_disp_mask(displacement[0, middle_frame], displacement[1, middle_frame], thres=mask_thres)\n",
    "    \n",
    "    # Apply mask to all time frames\n",
    "    mask_4d = np.tile(mask[None, None, :, :], (2, displacement.shape[1], 1, 1))\n",
    "    masked_displacement[~mask_4d] = np.nan\n",
    "    \n",
    "    return masked_displacement\n",
    "\n",
    "def get_visualization_window(displacement, margin=10):\n",
    "    \"\"\"\n",
    "    Choose the proper visualization window based on the non-NaN region.\n",
    "    \n",
    "    :param displacement: numpy array of shape (2, T, H, W)\n",
    "    :param margin: number of pixels to add as margin around the non-NaN region\n",
    "    :return: tuple of (x_min, x_max, y_min, y_max) for the visualization window\n",
    "    \"\"\"\n",
    "    # Use a middle time frame to determine the non-NaN region\n",
    "    middle_frame = displacement.shape[1] // 2\n",
    "    mask = ~np.isnan(displacement[0, middle_frame])\n",
    "    \n",
    "    non_nan_y, non_nan_x = np.where(mask)\n",
    "    \n",
    "    x_min, x_max = non_nan_x.min(), non_nan_x.max()\n",
    "    y_min, y_max = non_nan_y.min(), non_nan_y.max()\n",
    "    \n",
    "    # Add margin\n",
    "    x_min = max(0, x_min - margin)\n",
    "    x_max = min(displacement.shape[3], x_max + margin)\n",
    "    y_min = max(0, y_min - margin)\n",
    "    y_max = min(displacement.shape[2], y_max + margin)\n",
    "    \n",
    "    return x_min, x_max, y_min, y_max"
   ]
  },
  {
   "cell_type": "code",
   "execution_count": 9,
   "metadata": {},
   "outputs": [],
   "source": [
    "def create_image_gif(image_video, output_path, fps=10, subsample_rate=1, x_min=None, x_max=None, y_min=None, y_max=None):\n",
    "    \"\"\"\n",
    "    Create a GIF from an image video.\n",
    "    \n",
    "    :param image_video: numpy array of shape (H, W, T)\n",
    "    :param output_path: path to save the output GIF\n",
    "    :param fps: frames per second for the output GIF\n",
    "    :param subsample_rate: rate at which to subsample the images\n",
    "    :param x_min, x_max, y_min, y_max: visualization window parameters\n",
    "    \"\"\"\n",
    "    fig, ax = plt.subplots(figsize=(10, 10), constrained_layout=True)\n",
    "    im = ax.imshow(image_video[::subsample_rate, ::subsample_rate, 0], cmap='gray')\n",
    "    ax.axis('off')\n",
    "    ax.invert_yaxis()\n",
    "    \n",
    "    if x_min is not None and x_max is not None and y_min is not None and y_max is not None:\n",
    "        ax.set_xlim(x_min // subsample_rate, x_max // subsample_rate)\n",
    "        ax.set_ylim(y_max // subsample_rate, y_min // subsample_rate)  # Reversed for imshow\n",
    "    \n",
    "    def animate(i):\n",
    "        im.set_data(image_video[::subsample_rate, ::subsample_rate, i])\n",
    "        return (im,)\n",
    "\n",
    "    anim = animation.FuncAnimation(fig, animate, frames=image_video.shape[2], interval=100, blit=True)\n",
    "    anim.save(output_path, writer='ffmpeg', fps=fps)\n",
    "    plt.close(fig)\n",
    "\n",
    "def create_displacement_gif(displacement_video, output_path, fps=10, subsample_rate=1, quiver_scale=1, quiver_width=None, x_min=None, x_max=None, y_min=None, y_max=None):\n",
    "    \"\"\"\n",
    "    Create a GIF from a displacement video.\n",
    "    \n",
    "    :param displacement_video: numpy array of shape (2, T, H, W)\n",
    "    :param output_path: path to save the output GIF\n",
    "    :param fps: frames per second for the output GIF\n",
    "    :param subsample_rate: rate at which to subsample the displacement field\n",
    "    :param quiver_scale: scale for the quiver plot\n",
    "    :param x_min, x_max, y_min, y_max: visualization window parameters\n",
    "    \"\"\"\n",
    "    fig, ax = plt.subplots(figsize=(10, 10), constrained_layout=True)\n",
    "    ax.set_facecolor('black')\n",
    "    quiver = ax.quiver(displacement_video[0, 0, ::subsample_rate, ::subsample_rate],\n",
    "                       displacement_video[1, 0, ::subsample_rate, ::subsample_rate],\n",
    "                       scale=quiver_scale, units='xy', color='y', width=quiver_width)\n",
    "    ax.set_xticks([])\n",
    "    ax.set_yticks([])\n",
    "    ax.set_aspect('equal')\n",
    "    \n",
    "    if x_min is not None and x_max is not None and y_min is not None and y_max is not None:\n",
    "        ax.set_xlim(x_min // subsample_rate, x_max // subsample_rate)\n",
    "        ax.set_ylim(y_min // subsample_rate, y_max // subsample_rate)\n",
    "\n",
    "    def animate(i):\n",
    "        quiver.set_UVC(displacement_video[0, i, ::subsample_rate, ::subsample_rate],\n",
    "                       displacement_video[1, i, ::subsample_rate, ::subsample_rate])\n",
    "        return (quiver,)\n",
    "\n",
    "    anim = animation.FuncAnimation(fig, animate, frames=displacement_video.shape[1], interval=100, blit=True)\n",
    "    anim.save(output_path, writer='ffmpeg', fps=fps)\n",
    "    plt.close(fig)\n",
    "\n",
    "def create_combined_gif(image_video, displacement_video, output_path, fps=10, subsample_rate=1, quiver_scale=1, quiver_width=None, x_min=None, x_max=None, y_min=None, y_max=None):\n",
    "    fig, ax = plt.subplots(figsize=(10, 10), constrained_layout=True)\n",
    "    im = ax.imshow(image_video[::subsample_rate, ::subsample_rate, 0], cmap='gray')\n",
    "    ax.invert_yaxis()\n",
    "    quiver = ax.quiver(displacement_video[0, 0, ::subsample_rate, ::subsample_rate],\n",
    "                       displacement_video[1, 0, ::subsample_rate, ::subsample_rate],\n",
    "                       scale=quiver_scale, units='xy', color='y', width=quiver_width)\n",
    "    ax.set_xticks([])\n",
    "    ax.set_yticks([])\n",
    "    ax.set_aspect('equal')\n",
    "    \n",
    "    if x_min is not None and x_max is not None and y_min is not None and y_max is not None:\n",
    "        ax.set_xlim(x_min, x_max)\n",
    "        ax.set_ylim(y_min, y_max)\n",
    "\n",
    "    def animate(i):\n",
    "        im.set_data(image_video[::subsample_rate, ::subsample_rate, i])\n",
    "        quiver.set_UVC(displacement_video[0, i, ::subsample_rate, ::subsample_rate],\n",
    "                       displacement_video[1, i, ::subsample_rate, ::subsample_rate])\n",
    "        return (im, quiver)\n",
    "\n",
    "    anim = animation.FuncAnimation(fig, animate, frames=image_video.shape[2], interval=100, blit=True)\n",
    "    anim.save(output_path, writer='ffmpeg', fps=fps)\n",
    "    plt.close(fig)"
   ]
  },
  {
   "cell_type": "code",
   "execution_count": 10,
   "metadata": {},
   "outputs": [],
   "source": [
    "def create_gif(image_video=None, displacement_video=None, output_path='output.gif', fps=10, subsample_rate=1, quiver_scale=1, quiver_width=None, mask_thres=5e-1):\n",
    "    \"\"\"\n",
    "    Create a GIF based on the provided inputs.\n",
    "    \n",
    "    :param image_video: numpy array of shape (H, W, T) or None\n",
    "    :param displacement_video: numpy array of shape (2, T, H, W) or None\n",
    "    :param output_path: path to save the output GIF\n",
    "    :param fps: frames per second for the output GIF\n",
    "    :param subsample_rate: rate at which to subsample the images and displacement field\n",
    "    :param quiver_scale: scale for the quiver plot\n",
    "    \"\"\"\n",
    "    if displacement_video is not None:\n",
    "        displacement_video = apply_mask_to_displacement(displacement_video, mask_thres=mask_thres)\n",
    "        x_min, x_max, y_min, y_max = get_visualization_window(displacement_video)\n",
    "    else:\n",
    "        x_min, x_max, y_min, y_max = None, None, None, None\n",
    "    \n",
    "    if image_video is not None and displacement_video is not None:\n",
    "        create_combined_gif(image_video, displacement_video, output_path, fps, subsample_rate, quiver_scale, quiver_width, x_min, x_max, y_min, y_max)\n",
    "    elif image_video is not None:\n",
    "        create_image_gif(image_video, output_path, fps, subsample_rate, x_min, x_max, y_min, y_max)\n",
    "    elif displacement_video is not None:\n",
    "        create_displacement_gif(displacement_video, output_path, fps, subsample_rate, quiver_scale, quiver_width, x_min, x_max, y_min, y_max)\n",
    "    else:\n",
    "        raise ValueError(\"At least one of image_video or displacement_video must be provided.\")"
   ]
  },
  {
   "cell_type": "code",
   "execution_count": 14,
   "metadata": {},
   "outputs": [],
   "source": [
    "# make the plots\n",
    "import copy\n",
    "disp_GT_scale = 1\n",
    "disp_pred_scale = 1\n",
    "save_dir = Path('debug/notebooks/2025-01-24-make-paired-cine-DENSE-video-for-SCMR-LaMoD-presentation')\n",
    "for datum_idx in [45]:\n",
    "    slice_cine_mag = cine_DENSE_data[datum_idx]['cine_cropped_images_rescaled_DENSE48']\n",
    "    slice_cine_disp_pred = copy.deepcopy(data_recompute_strain_prev[datum_idx]['MotionDecoder1x1_cine_disp'])\n",
    "    slice_DENSE_disp_GT = copy.deepcopy(np.moveaxis(np.concatenate(\n",
    "        [\n",
    "            cine_DENSE_data[datum_idx]['DENSE_Lag_displacement_field_X'][None],\n",
    "            cine_DENSE_data[datum_idx]['DENSE_Lag_displacement_field_Y'][None],\n",
    "        ],\n",
    "        axis=0\n",
    "    ), -1, 1))\n",
    "    slice_DENSE_disp_GT_subsampled = slice_DENSE_disp_GT[:,::3]\n",
    "\n",
    "    slice_cine_disp_pred[:, :, ::2,::2] = np.nan\n",
    "    slice_DENSE_disp_GT[:, :, ::2,::2] = np.nan\n",
    "\n",
    "    # cine magnituide images\n",
    "    # create_gif(\n",
    "    #     image_video=slice_cine_mag,\n",
    "    #     displacement_video=None,\n",
    "    #     output_path=save_dir / f'case{datum_idx:03d}-cine-mag.gif',\n",
    "    #     mask_thres=1e-3,\n",
    "    #     quiver_scale=disp_pred_scale\n",
    "    # )\n",
    "\n",
    "    # cine displacement field prediction\n",
    "    create_gif(\n",
    "            image_video=None,\n",
    "            displacement_video=slice_cine_disp_pred,\n",
    "            output_path=save_dir / f'case{datum_idx:03d}-cine-disp-subsampled.gif',\n",
    "            mask_thres=1e-3,\n",
    "            quiver_scale=disp_pred_scale,\n",
    "            quiver_width=0.2\n",
    "        )\n",
    "    \n",
    "    # cine magnitude images + displacement field\n",
    "    create_gif(\n",
    "            image_video=slice_cine_mag,\n",
    "            displacement_video=slice_cine_disp_pred,\n",
    "            output_path=save_dir / f'case{datum_idx:03d}-cine-mag-disp-subsampled.gif',\n",
    "            mask_thres=1e-3,\n",
    "            quiver_scale=disp_pred_scale,\n",
    "            quiver_width=0.2\n",
    "        )\n",
    "\n",
    "    # DENSE displacement field\n",
    "    # create_gif(\n",
    "    #     image_video=None,\n",
    "    #     displacement_video=slice_DENSE_disp_GT_subsampled,\n",
    "    #     output_path=save_dir / f'case{datum_idx:03d}-DENSE-disp-subsampled.gif',\n",
    "    #     mask_thres=1e-3,\n",
    "    #     quiver_scale=disp_GT_scale,\n",
    "    #     quiver_width=0.1\n",
    "    # )\n",
    "\n",
    "\n"
   ]
  },
  {
   "cell_type": "code",
   "execution_count": 12,
   "metadata": {},
   "outputs": [
    {
     "data": {
      "text/plain": [
       "(2, 25, 48, 48)"
      ]
     },
     "execution_count": 12,
     "metadata": {},
     "output_type": "execute_result"
    }
   ],
   "source": [
    "slice_cine_disp_pred.shape"
   ]
  },
  {
   "cell_type": "code",
   "execution_count": 13,
   "metadata": {},
   "outputs": [
    {
     "data": {
      "text/plain": [
       "(2, 57, 48, 48)"
      ]
     },
     "execution_count": 13,
     "metadata": {},
     "output_type": "execute_result"
    }
   ],
   "source": [
    "slice_DENSE_disp_GT.shape"
   ]
  }
 ],
 "metadata": {
  "kernelspec": {
   "display_name": "cardiac",
   "language": "python",
   "name": "python3"
  },
  "language_info": {
   "codemirror_mode": {
    "name": "ipython",
    "version": 3
   },
   "file_extension": ".py",
   "mimetype": "text/x-python",
   "name": "python",
   "nbconvert_exporter": "python",
   "pygments_lexer": "ipython3",
   "version": "3.10.12"
  }
 },
 "nbformat": 4,
 "nbformat_minor": 2
}
