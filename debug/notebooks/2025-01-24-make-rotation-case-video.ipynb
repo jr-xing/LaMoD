{
 "cells": [
  {
   "cell_type": "code",
   "execution_count": null,
   "metadata": {
    "vscode": {
     "languageId": "plaintext"
    }
   },
   "outputs": [],
   "source": [
    "%load_ext autoreload\n",
    "%autoreload 2\n",
    "# %cd /p/mmcardiac/Jerry/code/CINE-DENSE-Translation\n",
    "%cd /home/jx8fh/Projects/LaMoD\n",
    "import numpy as np\n",
    "import torch\n",
    "import matplotlib.pyplot as plt\n",
    "from pathlib import Path\n",
    "from modules.data import check_dict"
   ]
  },
  {
   "cell_type": "code",
   "execution_count": null,
   "metadata": {
    "vscode": {
     "languageId": "plaintext"
    }
   },
   "outputs": [],
   "source": [
    "strain_prev_filename = '/scratch/jx8fh/2024-04-24-whole-vol-preds-strain-and-errors.npy'\n",
    "strain_prev_data = np.load(strain_prev_filename, allow_pickle=True).tolist()\n",
    "check_dict(strain_prev_data)"
   ]
  },
  {
   "cell_type": "code",
   "execution_count": null,
   "metadata": {
    "vscode": {
     "languageId": "plaintext"
    }
   },
   "outputs": [],
   "source": [
    "# strain_transUNet_filename = '/p/mmcardiac/Jerry/code/CINE-DENSE-Translation/review/2024-04/2024-04-24-whole-vol-preds/2024-04-24-whole-vol-preds-strain-and-errors.npy'\n",
    "strain_transUNet_filename = '/scratch/jx8fh/2024-06-22-whole-vol-preds-strain-and-errors-TransUNet.npy'\n",
    "strain_transUNet_data = np.load(strain_transUNet_filename, allow_pickle=True).tolist()\n",
    "check_dict(strain_transUNet_data)"
   ]
  },
  {
   "cell_type": "code",
   "execution_count": null,
   "metadata": {
    "vscode": {
     "languageId": "plaintext"
    }
   },
   "outputs": [],
   "source": [
    "test_GT_data = np.load('/scratch/jx8fh/2024-04-16-test-data.npy', allow_pickle=True).tolist()\n",
    "check_dict(test_GT_data[0])"
   ]
  },
  {
   "cell_type": "code",
   "execution_count": null,
   "metadata": {
    "vscode": {
     "languageId": "plaintext"
    }
   },
   "outputs": [],
   "source": [
    "segment_names = [\n",
    "    'Inferoseptal',\n",
    "    'Inferior',\n",
    "    'Inferolateral',\n",
    "    'Anterolateral',\n",
    "    'Anterior',\n",
    "    'Anteroseptal'\n",
    "]"
   ]
  },
  {
   "cell_type": "code",
   "execution_count": null,
   "metadata": {
    "vscode": {
     "languageId": "plaintext"
    }
   },
   "outputs": [],
   "source": [
    "datum_idx = 95\n",
    "datum_repeat_preds_fname = glob.glob(str(data_dir / f'LaMoD-DENSE-SkipDiffusion-{target_idx:03d}-*.npy'))[0]\n",
    "    datum_repeat_preds = np.load(datum_repeat_preds_fname, allow_pickle=True).tolist()\n",
    "\n",
    "    strainmat_GT = test_GT_data[datum_idx]['DENSE_strain_CCs6']\n",
    "    strainmat_GT_max = np.max(strainmat_GT[~np.isnan(strainmat_GT)])    \n",
    "    strainmat_GT_min = np.min(strainmat_GT[~np.isnan(strainmat_GT)])\n",
    "\n",
    "    strainmat_MotionDecoder = strain_prev_data['MotionDecoder1x1']['DENSE_strain_segmental_pred'][datum_idx]['CCs6']"
   ]
  },
  {
   "cell_type": "code",
   "execution_count": null,
   "metadata": {
    "vscode": {
     "languageId": "plaintext"
    }
   },
   "outputs": [],
   "source": [
    "import re\n",
    "\n",
    "def filter_filenames_by_idx(filenames, target_idx):\n",
    "    # Pattern matches: LaMoD-cine-{idx}-{id}-{location}.npy\n",
    "    # where id can be numeric or UVA format, and location can be positive/negative\n",
    "    pattern = r'LaMoD-DENSE-(\\d+)-([A-Za-z0-9]+)-(-?\\d+)\\.npy'\n",
    "    \n",
    "    matching_files = []\n",
    "    for filename in filenames:\n",
    "        match = re.match(pattern, filename)\n",
    "        if match and match.group(1) == str(target_idx).zfill(3):\n",
    "            matching_files.append(filename)\n",
    "    \n",
    "    return matching_files\n",
    "\n",
    "import glob\n",
    "from pathlib import Path\n",
    "# data_dir = Path('/scratch/jx8fh/2025-01-16-LaMoD-variability-split-100/DENSE_strain/')\n",
    "data_dir = Path('/scratch/jx8fh/2025-01-04-LaMoD-variability/DENSE/')\n",
    "all_fnames = glob.glob(str(data_dir / 'LaMoD-DENSE-*.npy'))\n",
    "target_idx = 41\n",
    "# matching_files = [Path(data_dir, matched_fname) for matched_fname in filter_filenames_by_idx([Path(f).name for f in all_fnames], target_idx)]\n",
    "matching_files = glob.glob(str(data_dir / f'LaMoD-DENSE-SkipDiffusion-{target_idx:03d}-*.npy'))\n",
    "print(matching_files)"
   ]
  },
  {
   "cell_type": "code",
   "execution_count": null,
   "metadata": {
    "vscode": {
     "languageId": "plaintext"
    }
   },
   "outputs": [],
   "source": [
    "def create_image_gif(image_video, output_path, fps=10, subsample_rate=1):\n",
    "    \"\"\"\n",
    "    Create a GIF from an image video.\n",
    "    \n",
    "    :param image_video: numpy array of shape (H, W, T)\n",
    "    :param output_path: path to save the output GIF\n",
    "    :param fps: frames per second for the output GIF\n",
    "    :param subsample_rate: rate at which to subsample the images\n",
    "    \"\"\"\n",
    "    fig, ax = plt.subplots(figsize=(10, 10))\n",
    "    im = ax.imshow(image_video[::subsample_rate, ::subsample_rate, 0], cmap='gray')\n",
    "    ax.axis('off')\n",
    "\n",
    "    def animate(i):\n",
    "        im.set_data(image_video[::subsample_rate, ::subsample_rate, i])\n",
    "        return (im,)\n",
    "\n",
    "    anim = animation.FuncAnimation(fig, animate, frames=image_video.shape[2], interval=100, blit=True)\n",
    "    anim.save(output_path, writer='ffmpeg', fps=fps)\n",
    "    plt.close(fig)"
   ]
  }
 ],
 "metadata": {
  "language_info": {
   "name": "python"
  }
 },
 "nbformat": 4,
 "nbformat_minor": 2
}
