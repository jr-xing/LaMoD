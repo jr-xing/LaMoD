{
 "cells": [
  {
   "cell_type": "code",
   "execution_count": 1,
   "metadata": {},
   "outputs": [
    {
     "name": "stdout",
     "output_type": "stream",
     "text": [
      "/sfs/gpfs/tardis/home/jx8fh/Projects/LaMoD\n"
     ]
    }
   ],
   "source": [
    "%load_ext autoreload\n",
    "%autoreload 2\n",
    "# %cd /p/mmcardiac/Jerry/code/CINE-DENSE-Translation\n",
    "%cd /home/jx8fh/Projects/LaMoD\n",
    "import numpy as np\n",
    "import torch\n",
    "import matplotlib.pyplot as plt\n",
    "from pathlib import Path\n",
    "from modules.data import check_dict"
   ]
  },
  {
   "cell_type": "code",
   "execution_count": 2,
   "metadata": {},
   "outputs": [
    {
     "name": "stdout",
     "output_type": "stream",
     "text": [
      "MotionDecoder1x1                                             dict_keys(['strain_img_MSE_errors', 'strain_img_L1_errors', 'strain_mat_MSE_errors', 'strain_mat_L1_errors', 'DENSE_strain_CC_pred', 'DENSE_strain_segmental_pred'])\n",
      "UNetROri                                                     dict_keys(['strain_img_MSE_errors', 'strain_img_L1_errors', 'strain_mat_MSE_errors', 'strain_mat_L1_errors', 'DENSE_strain_CC_pred', 'DENSE_strain_segmental_pred'])\n",
      "UNetR1x1                                                     dict_keys(['strain_img_MSE_errors', 'strain_img_L1_errors', 'strain_mat_MSE_errors', 'strain_mat_L1_errors', 'DENSE_strain_CC_pred', 'DENSE_strain_segmental_pred'])\n",
      "StrainNetOri                                                 dict_keys(['strain_img_MSE_errors', 'strain_img_L1_errors', 'strain_mat_MSE_errors', 'strain_mat_L1_errors', 'DENSE_strain_CC_pred', 'DENSE_strain_segmental_pred'])\n",
      "StrainNet                                                    dict_keys(['strain_img_MSE_errors', 'strain_img_L1_errors', 'strain_mat_MSE_errors', 'strain_mat_L1_errors', 'DENSE_strain_CC_pred', 'DENSE_strain_segmental_pred'])\n"
     ]
    }
   ],
   "source": [
    "strain_prev_filename = '/scratch/jx8fh/2024-04-24-whole-vol-preds-strain-and-errors.npy'\n",
    "strain_prev_data = np.load(strain_prev_filename, allow_pickle=True).tolist()\n",
    "check_dict(strain_prev_data)"
   ]
  },
  {
   "cell_type": "code",
   "execution_count": 3,
   "metadata": {},
   "outputs": [
    {
     "data": {
      "text/plain": [
       "102"
      ]
     },
     "execution_count": 3,
     "metadata": {},
     "output_type": "execute_result"
    }
   ],
   "source": [
    "len(strain_prev_data['MotionDecoder1x1']['strain_img_L1_errors'])"
   ]
  },
  {
   "cell_type": "code",
   "execution_count": 4,
   "metadata": {},
   "outputs": [
    {
     "name": "stdout",
     "output_type": "stream",
     "text": [
      "TransUNetOri                                                 dict_keys(['strain_img_MSE_errors', 'strain_img_L1_errors', 'strain_mat_MSE_errors', 'strain_mat_L1_errors', 'DENSE_strain_CC_pred', 'DENSE_strain_segmental_pred'])\n",
      "TransUNet1x1                                                 dict_keys(['strain_img_MSE_errors', 'strain_img_L1_errors', 'strain_mat_MSE_errors', 'strain_mat_L1_errors', 'DENSE_strain_CC_pred', 'DENSE_strain_segmental_pred'])\n"
     ]
    }
   ],
   "source": [
    "# strain_transUNet_filename = '/p/mmcardiac/Jerry/code/CINE-DENSE-Translation/review/2024-04/2024-04-24-whole-vol-preds/2024-04-24-whole-vol-preds-strain-and-errors.npy'\n",
    "strain_transUNet_filename = '/scratch/jx8fh/2024-06-22-whole-vol-preds-strain-and-errors-TransUNet.npy'\n",
    "strain_transUNet_data = np.load(strain_transUNet_filename, allow_pickle=True).tolist()\n",
    "check_dict(strain_transUNet_data)"
   ]
  },
  {
   "cell_type": "code",
   "execution_count": 5,
   "metadata": {},
   "outputs": [
    {
     "name": "stdout",
     "output_type": "stream",
     "text": [
      "patient_id                                                   033                 \n",
      "DENSE_slice_mat_filename                                     /p/miauva/data/Jerry/medical-images/Cardiac-FromKen/Yu-DENSE-data/033_S01_base_auto.1_ROI.1.mat\n",
      "DENSE_slice_location                                         76.947609505431     \n",
      "DENSE_frame_time_stamps                                      (51,)               \n",
      "DENSE_Lag_displacement_field_X                               (48, 48, 51)        \n",
      "DENSE_Lag_displacement_field_Y                               (48, 48, 51)        \n",
      "DENSE_myo_masks                                              (48, 48, 51)        \n",
      "DENSE_myo_mask_bbox                                          (34, 82, 40, 88)    \n",
      "DENSE_myo_masks_rescaled                                     (128, 128, 51)      \n",
      "DENSE_n_frames_all                                           51                  \n",
      "DENSE_frame_indices_with_myo_contour                         (51,)               \n",
      "out_of_box_flag                                              False               \n",
      "TransmuralStrainInfo                                         dict_keys(['Err', 'Ecc', 'E1', 'E2', 'Twist', 'CURE', 'RURE'])\n",
      "SequenceInfo                                                 (2, 3)              \n",
      "StrainInfo                                                   dict_keys(['X', 'Y', 'Faces', 'Vertices', 'PolarOrientation', 'Mask', 'XX', 'YY', 'XY', 'YX', 'RR', 'CC', 'RC', 'CR', 'p1', 'p2', 'p1or'])\n",
      "ROIInfo                                                      dict_keys(['ROIType', 'RestingContour', 'Contour'])\n",
      "AnalysisInfo                                                 dict_keys(['ResampleMethod', 'ResampleDistance', 'SpatialSmoothing', 'TemporalOrder', 'Xseed', 'Yseed', 'Zseed', 'FramesForAnalysis', 'Nmodel', 'PositionA', 'PositionB', 'Clockwise'])\n",
      "DENSEInfo                                                    dict_keys(['Name', 'UID', 'Type', 'MagIndex', 'PhaIndex', 'Number', 'PixelSpacing', 'Scale', 'EncFreq', 'SwapFlag', 'NegFlag'])\n",
      "AnalysisInstanceUID                                          1.3.6.1.4.1.9590.100.1.2.64946301013757307506911904523491151334\n",
      "DENSE_strain_CC                                              (48, 48, 51)        \n",
      "DENSE_strain_CCs6                                            (6, 51)             \n",
      "DENSE_strain_CCs18                                           (18, 51)            \n",
      "DENSE_strain_CCs_saved                                       dict_keys(['ResampleMethod', 'ResampleDistance', 'SpatialSmoothing', 'TemporalOrder', 'Xseed', 'Yseed', 'Zseed', 'FramesForAnalysis', 'Nmodel', 'PositionA', 'PositionB', 'Clockwise'])\n"
     ]
    }
   ],
   "source": [
    "test_GT_data = np.load('/scratch/jx8fh/2024-04-16-test-data.npy', allow_pickle=True).tolist()\n",
    "check_dict(test_GT_data[0])"
   ]
  },
  {
   "cell_type": "code",
   "execution_count": 6,
   "metadata": {},
   "outputs": [
    {
     "data": {
      "text/plain": [
       "102"
      ]
     },
     "execution_count": 6,
     "metadata": {},
     "output_type": "execute_result"
    }
   ],
   "source": [
    "len(test_GT_data)"
   ]
  },
  {
   "cell_type": "code",
   "execution_count": 7,
   "metadata": {},
   "outputs": [],
   "source": [
    "segment_names = [\n",
    "    'Inferoseptal',\n",
    "    'Inferior',\n",
    "    'Inferolateral',\n",
    "    'Anterolateral',\n",
    "    'Anterior',\n",
    "    'Anteroseptal'\n",
    "]"
   ]
  },
  {
   "cell_type": "code",
   "execution_count": 8,
   "metadata": {},
   "outputs": [],
   "source": [
    "import glob\n",
    "from pathlib import Path\n",
    "# data_dir = Path('/scratch/jx8fh/2025-01-16-LaMoD-variability-split-100/DENSE_strain/')\n",
    "data_dir = Path('/scratch/jx8fh/2025-01-04-LaMoD-variability/DENSE/')\n",
    "# datum_idx = 95\n",
    "datum_idx = 24\n",
    "datum_repeat_preds_fname = glob.glob(str(data_dir / f'LaMoD-DENSE-SkipDiffusion-{datum_idx:03d}-*.npy'))[0]\n",
    "datum_repeat_preds = np.load(datum_repeat_preds_fname, allow_pickle=True).tolist()\n",
    "\n",
    "# strainmat_GT = test_GT_data[datum_idx]['DENSE_strain_CCs6']\n",
    "# strainmat_GT_max = np.max(strainmat_GT[~np.isnan(strainmat_GT)])    \n",
    "# strainmat_GT_min = np.min(strainmat_GT[~np.isnan(strainmat_GT)])\n",
    "\n",
    "strainmat_MotionDecoder = strain_prev_data['MotionDecoder1x1']['DENSE_strain_segmental_pred'][datum_idx]['CCs6']"
   ]
  },
  {
   "cell_type": "code",
   "execution_count": 9,
   "metadata": {},
   "outputs": [
    {
     "data": {
      "text/plain": [
       "1"
      ]
     },
     "execution_count": 9,
     "metadata": {},
     "output_type": "execute_result"
    }
   ],
   "source": [
    "len(datum_repeat_preds)"
   ]
  },
  {
   "cell_type": "code",
   "execution_count": 10,
   "metadata": {},
   "outputs": [
    {
     "name": "stdout",
     "output_type": "stream",
     "text": [
      "disp_GT                                                      (2, 48, 48, 47)     \n",
      "disp_pred                                                    (2, 48, 48, 46)     \n",
      "disp_mask                                                    (48, 48)            \n",
      "strain_GT                                                    (48, 48, 47)        \n",
      "strain_pred                                                  (48, 48, 46)        \n",
      "origin_pred                                                  (2,)                \n",
      "insertion_pred                                               (2,)                \n",
      "CCs4_pred                                                    (4, 46)             \n",
      "CCs6_pred                                                    (6, 46)             \n",
      "CCs18_pred                                                   (18, 46)            \n",
      "Seg4_pred                                                    dict_keys(['insertion_shifted', 'BasisNames', 'BasisID', 'SegmentID'])\n",
      "Seg6_pred                                                    dict_keys(['insertion_shifted', 'BasisNames', 'BasisID', 'SegmentID'])\n",
      "Seg18_pred                                                   dict_keys(['insertion_shifted', 'BasisNames', 'BasisID', 'SegmentID'])\n",
      "origin_GT                                                    (2,)                \n",
      "insertion_GT                                                 (2,)                \n",
      "CCs4_GT                                                      (4, 47)             \n",
      "CCs6_GT                                                      (6, 47)             \n",
      "CCs18_GT                                                     (18, 47)            \n",
      "Seg4_GT                                                      dict_keys(['insertion_shifted', 'BasisNames', 'BasisID', 'SegmentID'])\n",
      "Seg6_GT                                                      dict_keys(['insertion_shifted', 'BasisNames', 'BasisID', 'SegmentID'])\n",
      "Seg18_GT                                                     dict_keys(['insertion_shifted', 'BasisNames', 'BasisID', 'SegmentID'])\n",
      "layerid_map_GT                                               (48, 48)            \n",
      "CCs4_endo_GT                                                 (4, 47)             \n",
      "CCs6_endo_GT                                                 (6, 47)             \n",
      "CCs18_endo_GT                                                (18, 47)            \n",
      "CCs4_mid_GT                                                  (4, 47)             \n",
      "CCs6_mid_GT                                                  (6, 47)             \n",
      "CCs18_mid_GT                                                 (18, 47)            \n",
      "CCs4_epi_GT                                                  (4, 47)             \n",
      "CCs6_epi_GT                                                  (6, 47)             \n",
      "CCs18_epi_GT                                                 (18, 47)            \n"
     ]
    }
   ],
   "source": [
    "check_dict(datum_repeat_preds[0])"
   ]
  },
  {
   "cell_type": "code",
   "execution_count": 11,
   "metadata": {},
   "outputs": [],
   "source": [
    "from IPython.display import HTML\n",
    "from matplotlib import animation\n",
    "from matplotlib import rc\n",
    "from IPython.display import HTML\n",
    "rc('animation', html='jshtml')"
   ]
  },
  {
   "cell_type": "code",
   "execution_count": 32,
   "metadata": {},
   "outputs": [],
   "source": [
    "def create_image_gif(image_video, output_path, fps=10, subsample_rate=1):\n",
    "    \"\"\"\n",
    "    Create a GIF from an image video.\n",
    "    \n",
    "    :param image_video: numpy array of shape (H, W, T)\n",
    "    :param output_path: path to save the output GIF\n",
    "    :param fps: frames per second for the output GIF\n",
    "    :param subsample_rate: rate at which to subsample the images\n",
    "    \"\"\"\n",
    "    fig, ax = plt.subplots(figsize=(10, 10))\n",
    "    im = ax.imshow(image_video[::subsample_rate, ::subsample_rate, 0], cmap='gray')\n",
    "    ax.axis('off')\n",
    "\n",
    "    def animate(i):\n",
    "        im.set_data(image_video[::subsample_rate, ::subsample_rate, i])\n",
    "        return (im,)\n",
    "\n",
    "    anim = animation.FuncAnimation(fig, animate, frames=image_video.shape[2], interval=100, blit=True)\n",
    "    anim.save(output_path, writer='ffmpeg', fps=fps)\n",
    "    plt.close(fig)\n",
    "create_image_gif(\n",
    "    test_GT_data[datum_idx]['DENSE_myo_masks'],\n",
    "    f'/home/jx8fh/Projects/LaMoD/debug/notebooks/2025-01-24-make-rotation-case-video/case{datum_idx:03d}-mask-GT.gif'\n",
    ")"
   ]
  },
  {
   "cell_type": "code",
   "execution_count": 33,
   "metadata": {},
   "outputs": [],
   "source": [
    "def create_displacement_gif(displacement_video, output_path, fps=10, subsample_rate=1, quiver_scale=2):\n",
    "    \"\"\"\n",
    "    Create a GIF from a displacement video.\n",
    "    \n",
    "    :param displacement_video: numpy array of shape (2, T, H, W)\n",
    "    :param output_path: path to save the output GIF\n",
    "    :param fps: frames per second for the output GIF\n",
    "    :param subsample_rate: rate at which to subsample the displacement field\n",
    "    :param quiver_scale: scale for the quiver plot\n",
    "    \"\"\"\n",
    "    fig, ax = plt.subplots(figsize=(10, 10))\n",
    "    ax.set_facecolor('black')\n",
    "    quiver = ax.quiver(displacement_video[0, 0, ::subsample_rate, ::subsample_rate],\n",
    "                       displacement_video[1, 0, ::subsample_rate, ::subsample_rate],\n",
    "                       scale=quiver_scale, units='xy', color='y')\n",
    "    ax.set_xticks([])\n",
    "    ax.set_yticks([])\n",
    "    ax.set_aspect('equal')\n",
    "\n",
    "    def animate(i):\n",
    "        quiver.set_UVC(displacement_video[0, i, ::subsample_rate, ::subsample_rate],\n",
    "                       displacement_video[1, i, ::subsample_rate, ::subsample_rate])\n",
    "        return (quiver,)\n",
    "\n",
    "    anim = animation.FuncAnimation(fig, animate, frames=displacement_video.shape[1], interval=100, blit=True)\n",
    "    anim.save(output_path, writer='ffmpeg', fps=fps)\n",
    "    plt.close(fig)\n",
    "create_displacement_gif(\n",
    "    np.moveaxis(np.concatenate([test_GT_data[datum_idx]['DENSE_Lag_displacement_field_X'][None], test_GT_data[datum_idx]['DENSE_Lag_displacement_field_Y'][None]], axis=0), -1, 1),\n",
    "    f'/home/jx8fh/Projects/LaMoD/debug/notebooks/2025-01-24-make-rotation-case-video/case{datum_idx:03d}-disp-GT.gif'\n",
    ")"
   ]
  },
  {
   "cell_type": "code",
   "execution_count": 34,
   "metadata": {},
   "outputs": [],
   "source": [
    "create_displacement_gif(\n",
    "    np.moveaxis(datum_repeat_preds[0]['disp_pred'], -1, 1),\n",
    "    f'/home/jx8fh/Projects/LaMoD/debug/notebooks/2025-01-24-make-rotation-case-video/case{datum_idx:03d}-disp-pred.gif'\n",
    ")"
   ]
  },
  {
   "cell_type": "code",
   "execution_count": 35,
   "metadata": {},
   "outputs": [
    {
     "data": {
      "text/plain": [
       "(2, 48, 48, 47)"
      ]
     },
     "execution_count": 35,
     "metadata": {},
     "output_type": "execute_result"
    }
   ],
   "source": [
    "np.concatenate([test_GT_data[datum_idx]['DENSE_Lag_displacement_field_X'][None], test_GT_data[datum_idx]['DENSE_Lag_displacement_field_Y'][None]], axis=0).shape"
   ]
  },
  {
   "cell_type": "code",
   "execution_count": 36,
   "metadata": {},
   "outputs": [],
   "source": [
    "def create_combined_gif(image_video, displacement_video, output_path, fps=10, subsample_rate=1, quiver_scale=2):\n",
    "    \"\"\"\n",
    "    Create a GIF with displacement field vectors plotted over images.\n",
    "    \n",
    "    :param image_video: numpy array of shape (H, W, T)\n",
    "    :param displacement_video: numpy array of shape (2, T, H, W)\n",
    "    :param output_path: path to save the output GIF\n",
    "    :param fps: frames per second for the output GIF\n",
    "    :param subsample_rate: rate at which to subsample the images and displacement field\n",
    "    :param quiver_scale: scale for the quiver plot\n",
    "    \"\"\"\n",
    "    fig, ax = plt.subplots(figsize=(10, 10))\n",
    "    im = ax.imshow(image_video[::subsample_rate, ::subsample_rate, 0], cmap='gray')\n",
    "    ax.invert_yaxis()\n",
    "    quiver = ax.quiver(displacement_video[0, 0, ::subsample_rate, ::subsample_rate],\n",
    "                       displacement_video[1, 0, ::subsample_rate, ::subsample_rate],\n",
    "                       scale=quiver_scale, units='xy', color='y')\n",
    "    ax.set_xticks([])\n",
    "    ax.set_yticks([])\n",
    "    ax.set_aspect('equal')\n",
    "\n",
    "    def animate(i):\n",
    "        im.set_data(image_video[::subsample_rate, ::subsample_rate, i])\n",
    "        quiver.set_UVC(displacement_video[0, i, ::subsample_rate, ::subsample_rate],\n",
    "                       displacement_video[1, i, ::subsample_rate, ::subsample_rate])\n",
    "        return (im, quiver)\n",
    "\n",
    "    anim = animation.FuncAnimation(fig, animate, frames=image_video.shape[2], interval=100, blit=True)\n",
    "    anim.save(output_path, writer='ffmpeg', fps=fps)\n",
    "    plt.close(fig)\n",
    "create_combined_gif(\n",
    "    test_GT_data[datum_idx]['DENSE_myo_masks'],\n",
    "    np.moveaxis(np.concatenate([test_GT_data[datum_idx]['DENSE_Lag_displacement_field_X'][None], test_GT_data[datum_idx]['DENSE_Lag_displacement_field_Y'][None]], axis=0), -1, 1),\n",
    "    f'/home/jx8fh/Projects/LaMoD/debug/notebooks/2025-01-24-make-rotation-case-video/case{datum_idx:03d}-mask-disp-GT.gif'\n",
    ")\n"
   ]
  },
  {
   "cell_type": "markdown",
   "metadata": {},
   "source": [
    "---"
   ]
  },
  {
   "cell_type": "code",
   "execution_count": 12,
   "metadata": {},
   "outputs": [],
   "source": [
    "import copy\n",
    "def get_disp_mask(disp_X, disp_Y, thres=5e-1):\n",
    "    norm = np.sqrt(disp_X**2 + disp_Y**2)\n",
    "    mask = norm > thres\n",
    "    return mask\n",
    "\n",
    "def apply_mask_to_displacement(displacement, mask_thres=5e-1):\n",
    "    \"\"\"\n",
    "    Deep copy the input displacement data and make out-of-mask regions NaN.\n",
    "    \n",
    "    :param displacement: numpy array of shape (2, T, H, W)\n",
    "    :return: masked displacement array of the same shape\n",
    "    \"\"\"\n",
    "    masked_displacement = copy.deepcopy(displacement)\n",
    "    \n",
    "    # Compute mask for a middle time frame\n",
    "    middle_frame = displacement.shape[1] // 2\n",
    "    mask = get_disp_mask(displacement[0, middle_frame], displacement[1, middle_frame], thres=mask_thres)\n",
    "    \n",
    "    # Apply mask to all time frames\n",
    "    mask_4d = np.tile(mask[None, None, :, :], (2, displacement.shape[1], 1, 1))\n",
    "    masked_displacement[~mask_4d] = np.nan\n",
    "    \n",
    "    return masked_displacement\n",
    "\n",
    "def get_visualization_window(displacement, margin=10):\n",
    "    \"\"\"\n",
    "    Choose the proper visualization window based on the non-NaN region.\n",
    "    \n",
    "    :param displacement: numpy array of shape (2, T, H, W)\n",
    "    :param margin: number of pixels to add as margin around the non-NaN region\n",
    "    :return: tuple of (x_min, x_max, y_min, y_max) for the visualization window\n",
    "    \"\"\"\n",
    "    # Use a middle time frame to determine the non-NaN region\n",
    "    middle_frame = displacement.shape[1] // 2\n",
    "    mask = ~np.isnan(displacement[0, middle_frame])\n",
    "    \n",
    "    non_nan_y, non_nan_x = np.where(mask)\n",
    "    \n",
    "    x_min, x_max = non_nan_x.min(), non_nan_x.max()\n",
    "    y_min, y_max = non_nan_y.min(), non_nan_y.max()\n",
    "    \n",
    "    # Add margin\n",
    "    x_min = max(0, x_min - margin)\n",
    "    x_max = min(displacement.shape[3], x_max + margin)\n",
    "    y_min = max(0, y_min - margin)\n",
    "    y_max = min(displacement.shape[2], y_max + margin)\n",
    "    \n",
    "    return x_min, x_max, y_min, y_max"
   ]
  },
  {
   "cell_type": "code",
   "execution_count": 13,
   "metadata": {},
   "outputs": [],
   "source": [
    "def create_image_gif(image_video, output_path, fps=10, subsample_rate=1, x_min=None, x_max=None, y_min=None, y_max=None):\n",
    "    \"\"\"\n",
    "    Create a GIF from an image video.\n",
    "    \n",
    "    :param image_video: numpy array of shape (H, W, T)\n",
    "    :param output_path: path to save the output GIF\n",
    "    :param fps: frames per second for the output GIF\n",
    "    :param subsample_rate: rate at which to subsample the images\n",
    "    :param x_min, x_max, y_min, y_max: visualization window parameters\n",
    "    \"\"\"\n",
    "    fig, ax = plt.subplots(figsize=(10, 10), constrained_layout=True)\n",
    "    im = ax.imshow(image_video[::subsample_rate, ::subsample_rate, 0], cmap='gray')\n",
    "    ax.axis('off')\n",
    "    ax.invert_yaxis()\n",
    "    \n",
    "    if x_min is not None and x_max is not None and y_min is not None and y_max is not None:\n",
    "        ax.set_xlim(x_min // subsample_rate, x_max // subsample_rate)\n",
    "        ax.set_ylim(y_max // subsample_rate, y_min // subsample_rate)  # Reversed for imshow\n",
    "    \n",
    "    def animate(i):\n",
    "        im.set_data(image_video[::subsample_rate, ::subsample_rate, i])\n",
    "        return (im,)\n",
    "\n",
    "    anim = animation.FuncAnimation(fig, animate, frames=image_video.shape[2], interval=100, blit=True)\n",
    "    anim.save(output_path, writer='ffmpeg', fps=fps)\n",
    "    plt.close(fig)\n",
    "\n",
    "def create_displacement_gif(displacement_video, output_path, fps=10, subsample_rate=1, quiver_scale=1, x_min=None, x_max=None, y_min=None, y_max=None):\n",
    "    \"\"\"\n",
    "    Create a GIF from a displacement video.\n",
    "    \n",
    "    :param displacement_video: numpy array of shape (2, T, H, W)\n",
    "    :param output_path: path to save the output GIF\n",
    "    :param fps: frames per second for the output GIF\n",
    "    :param subsample_rate: rate at which to subsample the displacement field\n",
    "    :param quiver_scale: scale for the quiver plot\n",
    "    :param x_min, x_max, y_min, y_max: visualization window parameters\n",
    "    \"\"\"\n",
    "    fig, ax = plt.subplots(figsize=(10, 10), constrained_layout=True)\n",
    "    ax.set_facecolor('black')\n",
    "    quiver = ax.quiver(displacement_video[0, 0, ::subsample_rate, ::subsample_rate],\n",
    "                       displacement_video[1, 0, ::subsample_rate, ::subsample_rate],\n",
    "                       scale=quiver_scale, units='xy', color='y')\n",
    "    ax.set_xticks([])\n",
    "    ax.set_yticks([])\n",
    "    ax.set_aspect('equal')\n",
    "    \n",
    "    if x_min is not None and x_max is not None and y_min is not None and y_max is not None:\n",
    "        ax.set_xlim(x_min // subsample_rate, x_max // subsample_rate)\n",
    "        ax.set_ylim(y_min // subsample_rate, y_max // subsample_rate)\n",
    "\n",
    "    def animate(i):\n",
    "        quiver.set_UVC(displacement_video[0, i, ::subsample_rate, ::subsample_rate],\n",
    "                       displacement_video[1, i, ::subsample_rate, ::subsample_rate])\n",
    "        return (quiver,)\n",
    "\n",
    "    anim = animation.FuncAnimation(fig, animate, frames=displacement_video.shape[1], interval=100, blit=True)\n",
    "    anim.save(output_path, writer='ffmpeg', fps=fps)\n",
    "    plt.close(fig)\n",
    "\n",
    "def create_combined_gif(image_video, displacement_video, output_path, fps=10, subsample_rate=1, quiver_scale=1, x_min=None, x_max=None, y_min=None, y_max=None):\n",
    "    fig, ax = plt.subplots(figsize=(10, 10), constrained_layout=True)\n",
    "    im = ax.imshow(image_video[::subsample_rate, ::subsample_rate, 0], cmap='gray')\n",
    "    ax.invert_yaxis()\n",
    "    quiver = ax.quiver(displacement_video[0, 0, ::subsample_rate, ::subsample_rate],\n",
    "                       displacement_video[1, 0, ::subsample_rate, ::subsample_rate],\n",
    "                       scale=quiver_scale, units='xy', color='y')\n",
    "    ax.set_xticks([])\n",
    "    ax.set_yticks([])\n",
    "    ax.set_aspect('equal')\n",
    "    \n",
    "    if x_min is not None and x_max is not None and y_min is not None and y_max is not None:\n",
    "        ax.set_xlim(x_min, x_max)\n",
    "        ax.set_ylim(y_min, y_max)\n",
    "\n",
    "    def animate(i):\n",
    "        im.set_data(image_video[::subsample_rate, ::subsample_rate, i])\n",
    "        quiver.set_UVC(displacement_video[0, i, ::subsample_rate, ::subsample_rate],\n",
    "                       displacement_video[1, i, ::subsample_rate, ::subsample_rate])\n",
    "        return (im, quiver)\n",
    "\n",
    "    anim = animation.FuncAnimation(fig, animate, frames=image_video.shape[2], interval=100, blit=True)\n",
    "    anim.save(output_path, writer='ffmpeg', fps=fps)\n",
    "    plt.close(fig)"
   ]
  },
  {
   "cell_type": "code",
   "execution_count": 14,
   "metadata": {},
   "outputs": [],
   "source": [
    "def create_gif(image_video=None, displacement_video=None, output_path='output.gif', fps=10, subsample_rate=1, quiver_scale=1, mask_thres=5e-1):\n",
    "    \"\"\"\n",
    "    Create a GIF based on the provided inputs.\n",
    "    \n",
    "    :param image_video: numpy array of shape (H, W, T) or None\n",
    "    :param displacement_video: numpy array of shape (2, T, H, W) or None\n",
    "    :param output_path: path to save the output GIF\n",
    "    :param fps: frames per second for the output GIF\n",
    "    :param subsample_rate: rate at which to subsample the images and displacement field\n",
    "    :param quiver_scale: scale for the quiver plot\n",
    "    \"\"\"\n",
    "    if displacement_video is not None:\n",
    "        displacement_video = apply_mask_to_displacement(displacement_video, mask_thres=mask_thres)\n",
    "        x_min, x_max, y_min, y_max = get_visualization_window(displacement_video)\n",
    "    else:\n",
    "        x_min, x_max, y_min, y_max = None, None, None, None\n",
    "    \n",
    "    if image_video is not None and displacement_video is not None:\n",
    "        create_combined_gif(image_video, displacement_video, output_path, fps, subsample_rate, quiver_scale, x_min, x_max, y_min, y_max)\n",
    "    elif image_video is not None:\n",
    "        create_image_gif(image_video, output_path, fps, subsample_rate, x_min, x_max, y_min, y_max)\n",
    "    elif displacement_video is not None:\n",
    "        create_displacement_gif(displacement_video, output_path, fps, subsample_rate, quiver_scale, x_min, x_max, y_min, y_max)\n",
    "    else:\n",
    "        raise ValueError(\"At least one of image_video or displacement_video must be provided.\")"
   ]
  },
  {
   "cell_type": "code",
   "execution_count": 15,
   "metadata": {},
   "outputs": [
    {
     "data": {
      "text/plain": [
       "24"
      ]
     },
     "execution_count": 15,
     "metadata": {},
     "output_type": "execute_result"
    }
   ],
   "source": [
    "datum_idx"
   ]
  },
  {
   "cell_type": "code",
   "execution_count": 16,
   "metadata": {},
   "outputs": [],
   "source": [
    "# create_gif(\n",
    "#     image_video=None,\n",
    "#     displacement_video=np.moveaxis(np.concatenate([test_GT_data[datum_idx]['DENSE_Lag_displacement_field_X'][None], test_GT_data[datum_idx]['DENSE_Lag_displacement_field_Y'][None]], axis=0), -1, 1),\n",
    "#     output_path=f'/home/jx8fh/Projects/LaMoD/debug/notebooks/2025-01-24-make-rotation-case-video/case{datum_idx:03d}-disp-GT.gif'\n",
    "# )\n",
    "# create_gif(\n",
    "#     image_video=None,\n",
    "#     displacement_video=np.moveaxis(datum_repeat_preds[0]['disp_pred'], -1, 1),\n",
    "#     output_path=f'/home/jx8fh/Projects/LaMoD/debug/notebooks/2025-01-24-make-rotation-case-video/case{datum_idx:03d}-disp-pred.gif',\n",
    "#     mask_thres=1e-1\n",
    "# )"
   ]
  },
  {
   "cell_type": "code",
   "execution_count": 17,
   "metadata": {},
   "outputs": [],
   "source": [
    "import numpy as np\n",
    "def extract_radial_tangent_components(displacement_field, center=None):\n",
    "    \"\"\"\n",
    "    Extracts radial and tangent components of a displacement field.\n",
    "\n",
    "    Args:\n",
    "    - displacement_field: A numpy array of shape (2, H, W) representing the displacement vectors.\n",
    "    - center: A tuple (x, y) specifying the center point. Defaults to the center of the displacement field.\n",
    "\n",
    "    Returns:\n",
    "    - radial_component: The radial component of the displacement field.\n",
    "    - tangent_component: The tangent component of the displacement field.\n",
    "    \"\"\"\n",
    "    _, H, W = displacement_field.shape\n",
    "    if center is None:\n",
    "        center = (W // 2, H // 2)\n",
    "    \n",
    "    # Adjust coordinate grid generation to ensure shape compatibility\n",
    "    X, Y = np.meshgrid(np.arange(W), np.arange(H))\n",
    "    \n",
    "    # Calculate the direction vectors from the center to each point\n",
    "    direction_vectors = np.stack([(X - center[0]), (Y - center[1])], axis=0)\n",
    "    \n",
    "    # Normalize direction vectors to get unit vectors\n",
    "    norms = np.sqrt(direction_vectors[0]**2 + direction_vectors[1]**2)\n",
    "    norms[norms == 0] = 1  # To avoid division by zero\n",
    "    unit_direction_vectors = direction_vectors / norms\n",
    "    \n",
    "    # Calculate radial components\n",
    "    displacement_magnitudes = np.sum(displacement_field * unit_direction_vectors, axis=0)\n",
    "    radial_component = unit_direction_vectors * displacement_magnitudes\n",
    "    \n",
    "    # Calculate tangent components\n",
    "    tangent_component = displacement_field - radial_component\n",
    "    \n",
    "    return radial_component, tangent_component"
   ]
  },
  {
   "cell_type": "code",
   "execution_count": 24,
   "metadata": {},
   "outputs": [],
   "source": [
    "# datum_idx = 95; disp_pred_scale = 0.5; disp_GT_scale = 1\n",
    "datum_idx = 24; disp_pred_scale = 1; disp_GT_scale = 1"
   ]
  },
  {
   "cell_type": "code",
   "execution_count": 25,
   "metadata": {},
   "outputs": [],
   "source": [
    "datum_disp_GT = np.moveaxis(np.concatenate([test_GT_data[datum_idx]['DENSE_Lag_displacement_field_X'][None], test_GT_data[datum_idx]['DENSE_Lag_displacement_field_Y'][None]], axis=0), -1, 1)[:, :-1]\n",
    "datum_disp_GT_rad = np.zeros_like(datum_disp_GT)\n",
    "datum_disp_GT_tan = np.zeros_like(datum_disp_GT)\n",
    "\n",
    "for frame_idx in range(datum_disp_GT.shape[1]):\n",
    "    disp_frame = datum_disp_GT[:, frame_idx]\n",
    "    disp_frame_rad, disp_frame_tan = extract_radial_tangent_components(disp_frame)\n",
    "    datum_disp_GT_rad[:, frame_idx] = disp_frame_rad\n",
    "    datum_disp_GT_tan[:, frame_idx] = disp_frame_tan"
   ]
  },
  {
   "cell_type": "code",
   "execution_count": 26,
   "metadata": {},
   "outputs": [],
   "source": [
    "create_gif(\n",
    "    image_video=None,\n",
    "    displacement_video=datum_disp_GT,\n",
    "    output_path=f'/home/jx8fh/Projects/LaMoD/debug/notebooks/2025-01-24-make-rotation-case-video/case{datum_idx:03d}-disp-GT.gif',\n",
    "    mask_thres=1e-3,\n",
    "    quiver_scale=disp_GT_scale\n",
    ")\n",
    "\n",
    "create_gif(\n",
    "    image_video=None,\n",
    "    displacement_video=datum_disp_GT_rad,\n",
    "    output_path=f'/home/jx8fh/Projects/LaMoD/debug/notebooks/2025-01-24-make-rotation-case-video/case{datum_idx:03d}-disp-GT-rad.gif',\n",
    "    mask_thres=1e-3,\n",
    "    quiver_scale=disp_GT_scale\n",
    ")\n",
    "\n",
    "create_gif(\n",
    "    image_video=None,\n",
    "    displacement_video=datum_disp_GT_tan,\n",
    "    output_path=f'/home/jx8fh/Projects/LaMoD/debug/notebooks/2025-01-24-make-rotation-case-video/case{datum_idx:03d}-disp-GT-tan.gif',\n",
    "    mask_thres=1e-3,\n",
    "    quiver_scale=disp_GT_scale\n",
    ")\n"
   ]
  },
  {
   "cell_type": "code",
   "execution_count": 27,
   "metadata": {},
   "outputs": [],
   "source": [
    "from modules.data import loadmat\n",
    "datum_mat_fname = Path(test_GT_data[datum_idx]['DENSE_slice_mat_filename'])\n",
    "# print(datum_mat_fname.name)\n",
    "datum_mat = loadmat(Path('/scratch/jx8fh/2025-01-24-Yu-DENSE-data') / Path(datum_mat_fname).name)\n",
    "datum_mag = datum_mat['ImageInfo']['Mag'][...,:-1]\n",
    "datum_mag_bbox = test_GT_data[datum_idx]['DENSE_myo_mask_bbox']\n",
    "datum_mag_cropped = datum_mat['ImageInfo']['Mag'][datum_mag_bbox[0]:datum_mag_bbox[1], datum_mag_bbox[2]:datum_mag_bbox[3], :-1]"
   ]
  },
  {
   "cell_type": "code",
   "execution_count": 28,
   "metadata": {},
   "outputs": [
    {
     "data": {
      "text/plain": [
       "<matplotlib.image.AxesImage at 0x7f9b5dc8cfa0>"
      ]
     },
     "execution_count": 28,
     "metadata": {},
     "output_type": "execute_result"
    },
    {
     "data": {
      "image/png": "[encoded data removed]",
      "text/plain": [
       "<Figure size 640x480 with 1 Axes>"
      ]
     },
     "metadata": {},
     "output_type": "display_data"
    }
   ],
   "source": [
    "plt.imshow(datum_mag_cropped[...,10], cmap='gray')"
   ]
  },
  {
   "cell_type": "code",
   "execution_count": 29,
   "metadata": {},
   "outputs": [],
   "source": [
    "# create_gif(\n",
    "#     image_video=datum_mag_cropped,\n",
    "#     displacement_video=datum_disp_GT,\n",
    "#     output_path=f'/home/jx8fh/Projects/LaMoD/debug/notebooks/2025-01-24-make-rotation-case-video/case{datum_idx:03d}-mag-disp-GT.gif',\n",
    "#     mask_thres=1e-3,\n",
    "#     quiver_scale=disp_GT_scale\n",
    "# )\n",
    "create_gif(\n",
    "    image_video=datum_mag_cropped,\n",
    "    displacement_video=datum_disp_GT_rad,\n",
    "    output_path=f'/home/jx8fh/Projects/LaMoD/debug/notebooks/2025-01-24-make-rotation-case-video/case{datum_idx:03d}-mag-disp-GT-rad.gif',\n",
    "    mask_thres=1e-3,\n",
    "    quiver_scale=disp_GT_scale\n",
    ")\n",
    "\n",
    "create_gif(\n",
    "    image_video=datum_mag_cropped,\n",
    "    displacement_video=datum_disp_GT_tan,\n",
    "    output_path=f'/home/jx8fh/Projects/LaMoD/debug/notebooks/2025-01-24-make-rotation-case-video/case{datum_idx:03d}-mag-disp-GT-tan.gif',\n",
    "    mask_thres=1e-3,\n",
    "    quiver_scale=disp_GT_scale\n",
    ")"
   ]
  },
  {
   "cell_type": "code",
   "execution_count": 30,
   "metadata": {},
   "outputs": [],
   "source": [
    "datum_repeat_preds_fname = glob.glob(str(data_dir / f'LaMoD-DENSE-SkipDiffusion-{datum_idx:03d}-*.npy'))[0]\n",
    "datum_repeat_preds = np.load(datum_repeat_preds_fname, allow_pickle=True).tolist()\n",
    "datum_disp_pred = np.moveaxis(datum_repeat_preds[0]['disp_pred'], -1, 1)\n",
    "datum_disp_pred_rad = np.zeros_like(datum_disp_pred)\n",
    "datum_disp_pred_tan = np.zeros_like(datum_disp_pred)\n",
    "\n",
    "for frame_idx in range(datum_disp_pred.shape[1]):\n",
    "    disp_frame = datum_disp_pred[:, frame_idx]\n",
    "    disp_frame_rad, disp_frame_tan = extract_radial_tangent_components(disp_frame)\n",
    "    datum_disp_pred_rad[:, frame_idx] = disp_frame_rad\n",
    "    datum_disp_pred_tan[:, frame_idx] = disp_frame_tan"
   ]
  },
  {
   "cell_type": "code",
   "execution_count": 31,
   "metadata": {},
   "outputs": [],
   "source": [
    "create_gif(\n",
    "    image_video=None,\n",
    "    displacement_video=datum_disp_pred,\n",
    "    output_path=f'/home/jx8fh/Projects/LaMoD/debug/notebooks/2025-01-24-make-rotation-case-video/case{datum_idx:03d}-disp-pred.gif',\n",
    "    mask_thres=1e-3,\n",
    "    quiver_scale=disp_pred_scale\n",
    ")\n",
    "\n",
    "create_gif(\n",
    "    image_video=None,\n",
    "    displacement_video=datum_disp_pred_rad,\n",
    "    output_path=f'/home/jx8fh/Projects/LaMoD/debug/notebooks/2025-01-24-make-rotation-case-video/case{datum_idx:03d}-disp-pred-rad.gif',\n",
    "    mask_thres=1e-3,\n",
    "    quiver_scale=disp_pred_scale\n",
    ")\n",
    "\n",
    "create_gif(\n",
    "    image_video=None,\n",
    "    displacement_video=datum_disp_pred_tan,\n",
    "    output_path=f'/home/jx8fh/Projects/LaMoD/debug/notebooks/2025-01-24-make-rotation-case-video/case{datum_idx:03d}-disp-pred-tan.gif',\n",
    "    mask_thres=1e-3,\n",
    "    quiver_scale=disp_pred_scale\n",
    ")\n"
   ]
  },
  {
   "cell_type": "code",
   "execution_count": 32,
   "metadata": {},
   "outputs": [],
   "source": [
    "create_gif(\n",
    "    image_video=datum_mag_cropped,\n",
    "    displacement_video=datum_disp_pred,\n",
    "    output_path=f'/home/jx8fh/Projects/LaMoD/debug/notebooks/2025-01-24-make-rotation-case-video/case{datum_idx:03d}-mag-disp-pred.gif',\n",
    "    mask_thres=1e-3,\n",
    "    quiver_scale=disp_pred_scale\n",
    ")\n",
    "\n",
    "create_gif(\n",
    "    image_video=datum_mag_cropped,\n",
    "    displacement_video=datum_disp_pred_rad,\n",
    "    output_path=f'/home/jx8fh/Projects/LaMoD/debug/notebooks/2025-01-24-make-rotation-case-video/case{datum_idx:03d}-mag-disp-pred-rad.gif',\n",
    "    mask_thres=1e-3,\n",
    "    quiver_scale=disp_pred_scale\n",
    ")\n",
    "\n",
    "create_gif(\n",
    "    image_video=datum_mag_cropped,\n",
    "    displacement_video=datum_disp_pred_tan,\n",
    "    output_path=f'/home/jx8fh/Projects/LaMoD/debug/notebooks/2025-01-24-make-rotation-case-video/case{datum_idx:03d}-mag-disp-pred-tan.gif',\n",
    "    mask_thres=1e-3,\n",
    "    quiver_scale=disp_pred_scale\n",
    ")\n"
   ]
  }
 ],
 "metadata": {
  "kernelspec": {
   "display_name": "cardiac",
   "language": "python",
   "name": "python3"
  },
  "language_info": {
   "codemirror_mode": {
    "name": "ipython",
    "version": 3
   },
   "file_extension": ".py",
   "mimetype": "text/x-python",
   "name": "python",
   "nbconvert_exporter": "python",
   "pygments_lexer": "ipython3",
   "version": "3.10.12"
  }
 },
 "nbformat": 4,
 "nbformat_minor": 2
}
